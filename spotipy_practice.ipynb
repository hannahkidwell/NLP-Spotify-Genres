{
 "cells": [
  {
   "cell_type": "code",
   "execution_count": 1,
   "metadata": {},
   "outputs": [],
   "source": [
    "#pip install spotipy --upgrade"
   ]
  },
  {
   "cell_type": "code",
   "execution_count": 2,
   "metadata": {},
   "outputs": [],
   "source": [
    "from config import client_id, client_secret\n",
    "import numpy as np\n",
    "import random"
   ]
  },
  {
   "cell_type": "code",
   "execution_count": 3,
   "metadata": {},
   "outputs": [],
   "source": [
    "import spotipy\n",
    "from spotipy.oauth2 import SpotifyClientCredentials\n",
    "\n",
    "sp = spotipy.Spotify(auth_manager=SpotifyClientCredentials(client_id=client_id,\n",
    "                     client_secret=client_secret))\n"
   ]
  },
  {
   "cell_type": "code",
   "execution_count": 4,
   "metadata": {},
   "outputs": [
    {
     "name": "stdout",
     "output_type": "stream",
     "text": [
      "1 Island In The Sun\n",
      "2 Say It Ain't So\n",
      "3 Buddy Holly\n",
      "4 Beverly Hills\n",
      "5 Undone - The Sweater Song\n",
      "6 Hash Pipe\n",
      "7 Lost in the Woods - Weezer Version\n",
      "8 Africa\n",
      "9 My Name Is Jonas\n",
      "10 Hero\n"
     ]
    }
   ],
   "source": [
    "# Print Weezer's top 10 songs\n",
    "results = sp.search(q='weezer', limit=10)\n",
    "for id, track in enumerate(results['tracks']['items']):\n",
    "    print(id+1, track['name'])"
   ]
  },
  {
   "cell_type": "code",
   "execution_count": 5,
   "metadata": {
    "scrolled": true
   },
   "outputs": [
    {
     "name": "stdout",
     "output_type": "stream",
     "text": [
      "Beautiful Lies\n",
      "Beautiful Lies\n",
      "Beautiful Lies (Deluxe)\n",
      "Beautiful Lies (Deluxe)\n",
      "Fire Within\n",
      "Fire Within\n",
      "Fire Within (Deluxe)\n",
      "Fire Within (Deluxe)\n",
      "Fire Within (Deluxe)\n",
      "Live in London\n",
      "Birdy\n",
      "Birdy\n",
      "Birdy\n",
      "Birdy\n",
      "Birdy (Deluxe Version)\n"
     ]
    }
   ],
   "source": [
    "# Print all of Birdy's albums\n",
    "birdy_uri = 'spotify:artist:2WX2uTcsvV5OnS0inACecP'\n",
    "results = sp.artist_albums(birdy_uri, album_type='album')\n",
    "\n",
    "for album in results['items']:\n",
    "    print(album['name'])"
   ]
  },
  {
   "cell_type": "code",
   "execution_count": 6,
   "metadata": {},
   "outputs": [
    {
     "name": "stdout",
     "output_type": "stream",
     "text": [
      "1 New Music Friday\n",
      "2 RapCaviar\n",
      "3 Hot Acoustics\n",
      "4 Happy Hits!\n",
      "5 All Out 90s\n",
      "6 A Perfect Day\n",
      "7 Feel Good Classics\n",
      "8 I Love My '90s Hip-Hop\n",
      "9 Brain Food\n",
      "10 Guilty Pleasures\n",
      "11 Chill Hits\n"
     ]
    }
   ],
   "source": [
    "# Print the featured playlists\n",
    "playlists = sp.featured_playlists()\n",
    "\n",
    "for id, playlist in enumerate(playlists['playlists']['items']):\n",
    "    print(id+1, playlist['name'])"
   ]
  },
  {
   "cell_type": "code",
   "execution_count": 7,
   "metadata": {
    "scrolled": true
   },
   "outputs": [
    {
     "data": {
      "text/plain": [
       "['Top Lists',\n",
       " '2020 Wrapped',\n",
       " 'At Home',\n",
       " 'Pop',\n",
       " 'Mood',\n",
       " 'Decades',\n",
       " 'Hip Hop',\n",
       " 'In the car',\n",
       " 'Gaming',\n",
       " 'Wellness',\n",
       " 'Workout',\n",
       " 'Chill',\n",
       " 'Focus',\n",
       " 'Sleep',\n",
       " 'Party',\n",
       " 'Metal',\n",
       " 'Rock',\n",
       " 'Dance/Electronic',\n",
       " 'Cooking & Dining',\n",
       " 'Jazz',\n",
       " 'R&B',\n",
       " 'Instrumental',\n",
       " 'Romance',\n",
       " 'Soul',\n",
       " 'Indie',\n",
       " 'Classical',\n",
       " 'Kids & Family',\n",
       " 'Latin',\n",
       " 'Caribbean',\n",
       " 'Blues',\n",
       " 'Funk',\n",
       " 'Punk',\n",
       " 'Country',\n",
       " 'Folk & Acoustic',\n",
       " 'Desi',\n",
       " 'Arab',\n",
       " 'Afro',\n",
       " 'Travel',\n",
       " 'K-Pop']"
      ]
     },
     "execution_count": 7,
     "metadata": {},
     "output_type": "execute_result"
    }
   ],
   "source": [
    "# Print all the 50 categories\n",
    "categories = sp.categories(limit=50)\n",
    "categories_list = []\n",
    "\n",
    "for idx, category in enumerate(categories['categories']['items']):\n",
    "    categories_list.append(category['name'])\n",
    "categories_list"
   ]
  },
  {
   "cell_type": "code",
   "execution_count": 8,
   "metadata": {},
   "outputs": [
    {
     "name": "stdout",
     "output_type": "stream",
     "text": [
      "wellness\n",
      "1 Yoga & Meditation\n",
      "2 Mind & Body\n",
      "3 Peaceful Meditation\n",
      "4 Stress Relief\n",
      "5 Detox\n"
     ]
    }
   ],
   "source": [
    "# Print 5 featured playlists for a random category\n",
    "category = random.choice(categories_list).lower()\n",
    "print(category)\n",
    "\n",
    "category_playlists = sp.category_playlists(category, limit=5)\n",
    "for id, playlist in enumerate(category_playlists['playlists']['items']):\n",
    "    print(id+1, playlist['name'])"
   ]
  },
  {
   "cell_type": "code",
   "execution_count": 9,
   "metadata": {},
   "outputs": [
    {
     "name": "stdout",
     "output_type": "stream",
     "text": [
      "1 Someone Like You (feat. Gia Koka) - Azello Remix\n",
      "2 NOPUS\n",
      "3 Techno Prank\n",
      "4 Enough Of You\n",
      "5 Deep Down Low\n"
     ]
    }
   ],
   "source": [
    "# Print 5 songs from the first featured party playlist\n",
    "party_playlist_uri = sp.category_playlists('party', limit=1)['playlists']['items'][0]['uri']\n",
    "playlist_items = sp.playlist_tracks(party_playlist_uri, limit=5)\n",
    "\n",
    "for id, item in enumerate(playlist_items['items']):\n",
    "    print(id+1, item['track']['name'])"
   ]
  },
  {
   "cell_type": "code",
   "execution_count": 10,
   "metadata": {},
   "outputs": [
    {
     "name": "stdout",
     "output_type": "stream",
     "text": [
      "spotify:artist:4iHNK0tOyZPYnBU7nGAgpQ\n",
      "['dance pop', 'pop', 'r&b', 'urban contemporary']\n"
     ]
    }
   ],
   "source": [
    "# Print the URI for Mariah Carey\n",
    "all_i_want_for_xmas_uri = '0bYg9bo50gSsH3LtXe2SQn'\n",
    "mariah_carey_uri = sp.track('0bYg9bo50gSsH3LtXe2SQn')['artists'][0]['uri']\n",
    "print(mariah_carey_uri)\n",
    "\n",
    "# Print Mariah Carey's genres\n",
    "genres = sp.artist(mariah_carey_uri)['genres']\n",
    "print(genres)"
   ]
  },
  {
   "cell_type": "code",
   "execution_count": 11,
   "metadata": {},
   "outputs": [
    {
     "name": "stdout",
     "output_type": "stream",
     "text": [
      "[{'danceability': 0.336, 'energy': 0.627, 'key': 7, 'loudness': -7.463, 'mode': 1, 'speechiness': 0.0384, 'acousticness': 0.164, 'instrumentalness': 0, 'liveness': 0.0708, 'valence': 0.35, 'tempo': 150.273, 'type': 'audio_features', 'id': '0bYg9bo50gSsH3LtXe2SQn', 'uri': 'spotify:track:0bYg9bo50gSsH3LtXe2SQn', 'track_href': 'https://api.spotify.com/v1/tracks/0bYg9bo50gSsH3LtXe2SQn', 'analysis_url': 'https://api.spotify.com/v1/audio-analysis/0bYg9bo50gSsH3LtXe2SQn', 'duration_ms': 241107, 'time_signature': 4}]\n"
     ]
    }
   ],
   "source": [
    "# Print the audio features for 'All I Want for Christams Is You'\n",
    "features = sp.audio_features(all_i_want_for_xmas_uri)\n",
    "print(features)"
   ]
  },
  {
   "cell_type": "code",
   "execution_count": 12,
   "metadata": {},
   "outputs": [
    {
     "name": "stdout",
     "output_type": "stream",
     "text": [
      "1 Coco (feat. DaBaby)\n",
      "2 Wonder\n",
      "3 Errbody\n",
      "4 Real Shit (with benny blanco)\n",
      "5 TINI TINI TINI\n"
     ]
    }
   ],
   "source": [
    "# Print 5 newly released albums\n",
    "new_releases = sp.new_releases(country='US', limit=5)\n",
    "\n",
    "for id, release in enumerate(new_releases['albums']['items']):\n",
    "    print(id+1, release['name'])"
   ]
  },
  {
   "cell_type": "code",
   "execution_count": null,
   "metadata": {},
   "outputs": [],
   "source": []
  }
 ],
 "metadata": {
  "kernelspec": {
   "display_name": "Python 3",
   "language": "python",
   "name": "python3"
  },
  "language_info": {
   "codemirror_mode": {
    "name": "ipython",
    "version": 3
   },
   "file_extension": ".py",
   "mimetype": "text/x-python",
   "name": "python",
   "nbconvert_exporter": "python",
   "pygments_lexer": "ipython3",
   "version": "3.7.3"
  }
 },
 "nbformat": 4,
 "nbformat_minor": 4
}
