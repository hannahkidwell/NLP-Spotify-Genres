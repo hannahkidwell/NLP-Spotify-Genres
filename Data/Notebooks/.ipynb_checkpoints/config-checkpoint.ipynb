{
 "cells": [
  {
   "cell_type": "code",
   "execution_count": 3,
   "metadata": {},
   "outputs": [],
   "source": [
    "spotify_token = \"BQCX0dE7Ic484wURFHr3M0XROSllq9vb0qxjXXPnBAU8f6Z65WOKkUnlt77_v0lsWvpFHze0MMKDb5MtpJTa8VR0UDo3HCC-7Vh7O_OvoIaqP14DvWiUoSKLLpkBzYjx9lGPXVP-5ttf_JJjdvPaHDeLOlQPOq_oIKY\""
   ]
  },
  {
   "cell_type": "code",
   "execution_count": null,
   "metadata": {},
   "outputs": [],
   "source": []
  }
 ],
 "metadata": {
  "kernelspec": {
   "display_name": "Python 3",
   "language": "python",
   "name": "python3"
  },
  "language_info": {
   "codemirror_mode": {
    "name": "ipython",
    "version": 3
   },
   "file_extension": ".py",
   "mimetype": "text/x-python",
   "name": "python",
   "nbconvert_exporter": "python",
   "pygments_lexer": "ipython3",
   "version": "3.7.6"
  }
 },
 "nbformat": 4,
 "nbformat_minor": 4
}
