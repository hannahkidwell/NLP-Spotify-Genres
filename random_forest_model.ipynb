{
 "cells": [
  {
   "cell_type": "code",
   "execution_count": 12,
   "metadata": {},
   "outputs": [],
   "source": [
    "# Import dependencies\n",
    "import pandas as pd\n",
    "from path import Path\n",
    "from sklearn.ensemble import RandomForestClassifier\n",
    "from sklearn.preprocessing import StandardScaler\n",
    "from sklearn.model_selection import train_test_split\n",
    "from sklearn.metrics import confusion_matrix, accuracy_score, classification_report"
   ]
  },
  {
   "cell_type": "code",
   "execution_count": 13,
   "metadata": {},
   "outputs": [
    {
     "data": {
      "text/html": [
       "<div>\n",
       "<style scoped>\n",
       "    .dataframe tbody tr th:only-of-type {\n",
       "        vertical-align: middle;\n",
       "    }\n",
       "\n",
       "    .dataframe tbody tr th {\n",
       "        vertical-align: top;\n",
       "    }\n",
       "\n",
       "    .dataframe thead th {\n",
       "        text-align: right;\n",
       "    }\n",
       "</style>\n",
       "<table border=\"1\" class=\"dataframe\">\n",
       "  <thead>\n",
       "    <tr style=\"text-align: right;\">\n",
       "      <th></th>\n",
       "      <th>Unnamed: 0</th>\n",
       "      <th>song</th>\n",
       "      <th>artist</th>\n",
       "      <th>category</th>\n",
       "      <th>lyrics</th>\n",
       "      <th>words</th>\n",
       "      <th>filtered</th>\n",
       "      <th>hashedValues</th>\n",
       "      <th>features</th>\n",
       "    </tr>\n",
       "  </thead>\n",
       "  <tbody>\n",
       "    <tr>\n",
       "      <th>0</th>\n",
       "      <td>0</td>\n",
       "      <td>Monster (Shawn Mendes &amp; Justin Bieber)</td>\n",
       "      <td>Shawn Mendes</td>\n",
       "      <td>34</td>\n",
       "      <td>You put me on a pedestal and tell me Im the b...</td>\n",
       "      <td>['', 'you', 'put', 'me', 'on', 'a', 'pedestal'...</td>\n",
       "      <td>['', 'put', 'pedestal', 'tell', 'im', 'best', ...</td>\n",
       "      <td>(262144,[3386,3924,18184,21823,30548,31015,375...</td>\n",
       "      <td>(262144,[3386,3924,18184,21823,30548,31015,375...</td>\n",
       "    </tr>\n",
       "    <tr>\n",
       "      <th>1</th>\n",
       "      <td>1</td>\n",
       "      <td>positions</td>\n",
       "      <td>Ariana Grande</td>\n",
       "      <td>34</td>\n",
       "      <td>Heaven sent you to me Im just hopin I dont re...</td>\n",
       "      <td>['', 'heaven', 'sent', 'you', 'to', 'me', 'im'...</td>\n",
       "      <td>['', 'heaven', 'sent', 'im', 'hopin', 'dont', ...</td>\n",
       "      <td>(262144,[7231,21823,31015,39504,51471,55334,64...</td>\n",
       "      <td>(262144,[7231,21823,31015,39504,51471,55334,64...</td>\n",
       "    </tr>\n",
       "    <tr>\n",
       "      <th>2</th>\n",
       "      <td>2</td>\n",
       "      <td>Therefore I Am</td>\n",
       "      <td>Billie Eilish</td>\n",
       "      <td>34</td>\n",
       "      <td>Im not your friend Or anything damn You think...</td>\n",
       "      <td>['', 'im', 'not', 'your', 'friend', 'or', 'any...</td>\n",
       "      <td>['', 'im', 'friend', 'anything', 'damn', 'thin...</td>\n",
       "      <td>(262144,[18176,22346,23071,23087,24175,31015,3...</td>\n",
       "      <td>(262144,[18176,22346,23071,23087,24175,31015,3...</td>\n",
       "    </tr>\n",
       "    <tr>\n",
       "      <th>3</th>\n",
       "      <td>3</td>\n",
       "      <td>Levitating (feat. DaBaby)</td>\n",
       "      <td>Dua Lipa</td>\n",
       "      <td>34</td>\n",
       "      <td>Billboard Baby Dua Lipa los hace bailar cuand...</td>\n",
       "      <td>['', 'billboard', 'baby', 'dua', 'lipa', 'los'...</td>\n",
       "      <td>['', 'billboard', 'baby', 'dua', 'lipa', 'los'...</td>\n",
       "      <td>(262144,[522,764,1212,2298,7188,7913,7975,8884...</td>\n",
       "      <td>(262144,[522,764,1212,2298,7188,7913,7975,8884...</td>\n",
       "    </tr>\n",
       "    <tr>\n",
       "      <th>4</th>\n",
       "      <td>4</td>\n",
       "      <td>Dakiti</td>\n",
       "      <td>Bad Bunny</td>\n",
       "      <td>34</td>\n",
       "      <td>Baby ya yo me enteré se nota cuando me ve Ahí...</td>\n",
       "      <td>['', 'baby', 'ya', 'yo', 'me', 'enteré', 'se',...</td>\n",
       "      <td>['', 'baby', 'ya', 'yo', 'enteré', 'se', 'nota...</td>\n",
       "      <td>(262144,[764,1781,2409,3165,5555,6523,9192,125...</td>\n",
       "      <td>(262144,[764,1781,2409,3165,5555,6523,9192,125...</td>\n",
       "    </tr>\n",
       "  </tbody>\n",
       "</table>\n",
       "</div>"
      ],
      "text/plain": [
       "   Unnamed: 0                                    song         artist category  \\\n",
       "0           0  Monster (Shawn Mendes & Justin Bieber)   Shawn Mendes       34   \n",
       "1           1                               positions  Ariana Grande       34   \n",
       "2           2                          Therefore I Am  Billie Eilish       34   \n",
       "3           3               Levitating (feat. DaBaby)       Dua Lipa       34   \n",
       "4           4                                  Dakiti      Bad Bunny       34   \n",
       "\n",
       "                                              lyrics  \\\n",
       "0   You put me on a pedestal and tell me Im the b...   \n",
       "1   Heaven sent you to me Im just hopin I dont re...   \n",
       "2   Im not your friend Or anything damn You think...   \n",
       "3   Billboard Baby Dua Lipa los hace bailar cuand...   \n",
       "4   Baby ya yo me enteré se nota cuando me ve Ahí...   \n",
       "\n",
       "                                               words  \\\n",
       "0  ['', 'you', 'put', 'me', 'on', 'a', 'pedestal'...   \n",
       "1  ['', 'heaven', 'sent', 'you', 'to', 'me', 'im'...   \n",
       "2  ['', 'im', 'not', 'your', 'friend', 'or', 'any...   \n",
       "3  ['', 'billboard', 'baby', 'dua', 'lipa', 'los'...   \n",
       "4  ['', 'baby', 'ya', 'yo', 'me', 'enteré', 'se',...   \n",
       "\n",
       "                                            filtered  \\\n",
       "0  ['', 'put', 'pedestal', 'tell', 'im', 'best', ...   \n",
       "1  ['', 'heaven', 'sent', 'im', 'hopin', 'dont', ...   \n",
       "2  ['', 'im', 'friend', 'anything', 'damn', 'thin...   \n",
       "3  ['', 'billboard', 'baby', 'dua', 'lipa', 'los'...   \n",
       "4  ['', 'baby', 'ya', 'yo', 'enteré', 'se', 'nota...   \n",
       "\n",
       "                                        hashedValues  \\\n",
       "0  (262144,[3386,3924,18184,21823,30548,31015,375...   \n",
       "1  (262144,[7231,21823,31015,39504,51471,55334,64...   \n",
       "2  (262144,[18176,22346,23071,23087,24175,31015,3...   \n",
       "3  (262144,[522,764,1212,2298,7188,7913,7975,8884...   \n",
       "4  (262144,[764,1781,2409,3165,5555,6523,9192,125...   \n",
       "\n",
       "                                            features  \n",
       "0  (262144,[3386,3924,18184,21823,30548,31015,375...  \n",
       "1  (262144,[7231,21823,31015,39504,51471,55334,64...  \n",
       "2  (262144,[18176,22346,23071,23087,24175,31015,3...  \n",
       "3  (262144,[522,764,1212,2298,7188,7913,7975,8884...  \n",
       "4  (262144,[764,1781,2409,3165,5555,6523,9192,125...  "
      ]
     },
     "execution_count": 13,
     "metadata": {},
     "output_type": "execute_result"
    }
   ],
   "source": [
    "# Create DataFrame from CSV file\n",
    "music_df = pd.read_csv('nlp_df.csv')\n",
    "music_df.head()"
   ]
  },
  {
   "cell_type": "code",
   "execution_count": 34,
   "metadata": {},
   "outputs": [
    {
     "data": {
      "text/html": [
       "<div>\n",
       "<style scoped>\n",
       "    .dataframe tbody tr th:only-of-type {\n",
       "        vertical-align: middle;\n",
       "    }\n",
       "\n",
       "    .dataframe tbody tr th {\n",
       "        vertical-align: top;\n",
       "    }\n",
       "\n",
       "    .dataframe thead th {\n",
       "        text-align: right;\n",
       "    }\n",
       "</style>\n",
       "<table border=\"1\" class=\"dataframe\">\n",
       "  <thead>\n",
       "    <tr style=\"text-align: right;\">\n",
       "      <th></th>\n",
       "      <th>Unnamed: 0</th>\n",
       "      <th>song</th>\n",
       "      <th>artist</th>\n",
       "      <th>category</th>\n",
       "      <th>lyrics</th>\n",
       "      <th>words</th>\n",
       "      <th>filtered</th>\n",
       "      <th>hashedValues</th>\n",
       "      <th>features</th>\n",
       "    </tr>\n",
       "  </thead>\n",
       "  <tbody>\n",
       "    <tr>\n",
       "      <th>0</th>\n",
       "      <td>0</td>\n",
       "      <td>Monster (Shawn Mendes &amp; Justin Bieber)</td>\n",
       "      <td>Shawn Mendes</td>\n",
       "      <td>34</td>\n",
       "      <td>You put me on a pedestal and tell me Im the b...</td>\n",
       "      <td>['', 'you', 'put', 'me', 'on', 'a', 'pedestal'...</td>\n",
       "      <td>['', 'put', 'pedestal', 'tell', 'im', 'best', ...</td>\n",
       "      <td>(262144,[3386,3924,18184,21823,30548,31015,375...</td>\n",
       "      <td>(262144,[3386,3924,18184,21823,30548,31015,375...</td>\n",
       "    </tr>\n",
       "    <tr>\n",
       "      <th>1</th>\n",
       "      <td>1</td>\n",
       "      <td>positions</td>\n",
       "      <td>Ariana Grande</td>\n",
       "      <td>34</td>\n",
       "      <td>Heaven sent you to me Im just hopin I dont re...</td>\n",
       "      <td>['', 'heaven', 'sent', 'you', 'to', 'me', 'im'...</td>\n",
       "      <td>['', 'heaven', 'sent', 'im', 'hopin', 'dont', ...</td>\n",
       "      <td>(262144,[7231,21823,31015,39504,51471,55334,64...</td>\n",
       "      <td>(262144,[7231,21823,31015,39504,51471,55334,64...</td>\n",
       "    </tr>\n",
       "    <tr>\n",
       "      <th>2</th>\n",
       "      <td>2</td>\n",
       "      <td>Therefore I Am</td>\n",
       "      <td>Billie Eilish</td>\n",
       "      <td>34</td>\n",
       "      <td>Im not your friend Or anything damn You think...</td>\n",
       "      <td>['', 'im', 'not', 'your', 'friend', 'or', 'any...</td>\n",
       "      <td>['', 'im', 'friend', 'anything', 'damn', 'thin...</td>\n",
       "      <td>(262144,[18176,22346,23071,23087,24175,31015,3...</td>\n",
       "      <td>(262144,[18176,22346,23071,23087,24175,31015,3...</td>\n",
       "    </tr>\n",
       "    <tr>\n",
       "      <th>5</th>\n",
       "      <td>5</td>\n",
       "      <td>Errbody</td>\n",
       "      <td>Lil Baby</td>\n",
       "      <td>34</td>\n",
       "      <td>Flyer than everybody Section 8 just straight ...</td>\n",
       "      <td>['', 'flyer', 'than', 'everybody', 'section', ...</td>\n",
       "      <td>['', 'flyer', 'everybody', 'section', '8', 'st...</td>\n",
       "      <td>(262144,[1303,1398,1745,3280,4372,4978,6715,82...</td>\n",
       "      <td>(262144,[1303,1398,1745,3280,4372,4978,6715,82...</td>\n",
       "    </tr>\n",
       "    <tr>\n",
       "      <th>6</th>\n",
       "      <td>6</td>\n",
       "      <td>Whoopty</td>\n",
       "      <td>CJ</td>\n",
       "      <td>34</td>\n",
       "      <td>Loyalty over royalty yall niggas know the vib...</td>\n",
       "      <td>['', 'loyalty', 'over', 'royalty', 'yall', 'ni...</td>\n",
       "      <td>['', 'loyalty', 'royalty', 'yall', 'niggas', '...</td>\n",
       "      <td>(262144,[1689,3186,6116,6524,8538,10345,11209,...</td>\n",
       "      <td>(262144,[1689,3186,6116,6524,8538,10345,11209,...</td>\n",
       "    </tr>\n",
       "  </tbody>\n",
       "</table>\n",
       "</div>"
      ],
      "text/plain": [
       "   Unnamed: 0                                    song         artist category  \\\n",
       "0           0  Monster (Shawn Mendes & Justin Bieber)   Shawn Mendes       34   \n",
       "1           1                               positions  Ariana Grande       34   \n",
       "2           2                          Therefore I Am  Billie Eilish       34   \n",
       "5           5                                 Errbody       Lil Baby       34   \n",
       "6           6                                 Whoopty             CJ       34   \n",
       "\n",
       "                                              lyrics  \\\n",
       "0   You put me on a pedestal and tell me Im the b...   \n",
       "1   Heaven sent you to me Im just hopin I dont re...   \n",
       "2   Im not your friend Or anything damn You think...   \n",
       "5   Flyer than everybody Section 8 just straight ...   \n",
       "6   Loyalty over royalty yall niggas know the vib...   \n",
       "\n",
       "                                               words  \\\n",
       "0  ['', 'you', 'put', 'me', 'on', 'a', 'pedestal'...   \n",
       "1  ['', 'heaven', 'sent', 'you', 'to', 'me', 'im'...   \n",
       "2  ['', 'im', 'not', 'your', 'friend', 'or', 'any...   \n",
       "5  ['', 'flyer', 'than', 'everybody', 'section', ...   \n",
       "6  ['', 'loyalty', 'over', 'royalty', 'yall', 'ni...   \n",
       "\n",
       "                                            filtered  \\\n",
       "0  ['', 'put', 'pedestal', 'tell', 'im', 'best', ...   \n",
       "1  ['', 'heaven', 'sent', 'im', 'hopin', 'dont', ...   \n",
       "2  ['', 'im', 'friend', 'anything', 'damn', 'thin...   \n",
       "5  ['', 'flyer', 'everybody', 'section', '8', 'st...   \n",
       "6  ['', 'loyalty', 'royalty', 'yall', 'niggas', '...   \n",
       "\n",
       "                                        hashedValues  \\\n",
       "0  (262144,[3386,3924,18184,21823,30548,31015,375...   \n",
       "1  (262144,[7231,21823,31015,39504,51471,55334,64...   \n",
       "2  (262144,[18176,22346,23071,23087,24175,31015,3...   \n",
       "5  (262144,[1303,1398,1745,3280,4372,4978,6715,82...   \n",
       "6  (262144,[1689,3186,6116,6524,8538,10345,11209,...   \n",
       "\n",
       "                                            features  \n",
       "0  (262144,[3386,3924,18184,21823,30548,31015,375...  \n",
       "1  (262144,[7231,21823,31015,39504,51471,55334,64...  \n",
       "2  (262144,[18176,22346,23071,23087,24175,31015,3...  \n",
       "5  (262144,[1303,1398,1745,3280,4372,4978,6715,82...  \n",
       "6  (262144,[1689,3186,6116,6524,8538,10345,11209,...  "
      ]
     },
     "execution_count": 34,
     "metadata": {},
     "output_type": "execute_result"
    }
   ],
   "source": [
    "# Try to remove songs with spanish lyrics\n",
    "for index, row in music_df.iterrows():\n",
    "    if ('é' in row['lyrics']) or ('í' in row['lyrics']):\n",
    "        music_df = music_df.drop(index)\n",
    "music_df.head()"
   ]
  },
  {
   "cell_type": "code",
   "execution_count": 45,
   "metadata": {},
   "outputs": [
    {
     "data": {
      "text/plain": [
       "89978"
      ]
     },
     "execution_count": 45,
     "metadata": {},
     "output_type": "execute_result"
    }
   ],
   "source": [
    "# Create a list of words \n",
    "words_list = []\n",
    "for index, row in music_df.iterrows():\n",
    "    filtered_words = music_df['filtered'][index]\n",
    "    filtered_words = filtered_words.replace(',', '').replace(\"'\", '')\n",
    "    filtered_words = filtered_words.replace('[', '').replace(']', '')\n",
    "    unique_words = list(set(filtered_words.strip().split(' ')))\n",
    "    words_list.extend(unique_words)\n",
    "word_columns = list(set(words_list))\n",
    "len(word_columns)"
   ]
  },
  {
   "cell_type": "code",
   "execution_count": 47,
   "metadata": {},
   "outputs": [
    {
     "data": {
      "text/html": [
       "<div>\n",
       "<style scoped>\n",
       "    .dataframe tbody tr th:only-of-type {\n",
       "        vertical-align: middle;\n",
       "    }\n",
       "\n",
       "    .dataframe tbody tr th {\n",
       "        vertical-align: top;\n",
       "    }\n",
       "\n",
       "    .dataframe thead th {\n",
       "        text-align: right;\n",
       "    }\n",
       "</style>\n",
       "<table border=\"1\" class=\"dataframe\">\n",
       "  <thead>\n",
       "    <tr style=\"text-align: right;\">\n",
       "      <th></th>\n",
       "      <th>song</th>\n",
       "      <th>artist</th>\n",
       "      <th></th>\n",
       "      <th>bison</th>\n",
       "      <th>incedebant.</th>\n",
       "      <th>ال</th>\n",
       "      <th>emurgency</th>\n",
       "      <th>signification—</th>\n",
       "      <th>lakers</th>\n",
       "      <th>finges</th>\n",
       "      <th>...</th>\n",
       "      <th>spicily</th>\n",
       "      <th>curses</th>\n",
       "      <th>girdi</th>\n",
       "      <th>sweating</th>\n",
       "      <th>barth</th>\n",
       "      <th>sobol</th>\n",
       "      <th>jun...ill</th>\n",
       "      <th>allswill</th>\n",
       "      <th>lusts</th>\n",
       "      <th>category</th>\n",
       "    </tr>\n",
       "  </thead>\n",
       "  <tbody>\n",
       "  </tbody>\n",
       "</table>\n",
       "<p>0 rows × 89981 columns</p>\n",
       "</div>"
      ],
      "text/plain": [
       "Empty DataFrame\n",
       "Columns: [song, artist, , bison, incedebant., ال, emurgency, signification—, lakers, finges, eyesight, sled, conpetenter, twinges, antilower, triumph;, vakshaah:, berkeley., fading, dhumnk, demon.\"\", martian, erzak, angora, flocks, foran, days;, heretics, .i, hughes, compote, mossies, 달빛이, zipo, scent;, spashtaaksharo:, ağzını, lydian, youth”, prior;, obama, upon, swum, zings, 1=man, performing, departed, camelias, deling, tunics., 1225, challenge., bracketed, count=3, garri, round., rejoice—, boars, graecorum., mox, neverwithstanding, melancholy, gangsters., \"\"yet, exit, abditis, \\xa0\\xa0\\xa0\\xa0\\xa0\\xa0\\xa0\\xa0\"\"yes, memsous\\u2005., tease!, goggles., outlawz, autumnum, maught, trials, walk—, ests, watsons, pushkin, media—in, nowraging, magongo, arancia, steamboat, narks, obscindgemeinded, madvillainy, inflicted, 22.05.2016, 마음이, kartony, gesturing, cognominantur, fetich, suspect., submission, didactic, truck, bearfellsed, originator, roumanschy, ...]\n",
       "Index: []\n",
       "\n",
       "[0 rows x 89981 columns]"
      ]
     },
     "execution_count": 47,
     "metadata": {},
     "output_type": "execute_result"
    }
   ],
   "source": [
    "# Create DataFrame for ML model\n",
    "columns = ['song', 'artist']\n",
    "columns.extend(word_columns)\n",
    "columns.append('category')\n",
    "song_words_df = pd.DataFrame(columns=columns)\n",
    "for index, row in music_df.iterrows():\n",
    "    song_words_df.append(row)\n",
    "    filtered_words = music_df['filtered'][index]\n",
    "\n",
    "song_words_df.head()"
   ]
  },
  {
   "cell_type": "code",
   "execution_count": null,
   "metadata": {},
   "outputs": [],
   "source": []
  },
  {
   "cell_type": "code",
   "execution_count": null,
   "metadata": {},
   "outputs": [],
   "source": []
  },
  {
   "cell_type": "code",
   "execution_count": null,
   "metadata": {},
   "outputs": [],
   "source": []
  },
  {
   "cell_type": "code",
   "execution_count": 14,
   "metadata": {},
   "outputs": [
    {
     "data": {
      "text/plain": [
       "\"['', 'put', 'pedestal', 'tell', 'im', 'best', 'raise', 'sky', 'im', 'short', 'breath', 'yeah', 'fill', 'confidence', 'say', 'whats', 'chest', 'spill', 'words', 'tear', 'theres', 'nothin', 'left', 'rearrange', 'pieces', 'fit', 'rest', 'yeah', 'trip', 'fall', 'monster', 'let', 'know', 'sin', 'break', 'yeah', 'monster', 'yeah', 'let', 'know', 'yeah', 'fifteen', 'world', 'put', 'pedestal', 'big', 'dreams', 'doin', 'shows', 'making', 'memories', 'made', 'bad', 'moves', 'tryin', 'act', 'cool', 'upset', 'jealousy', 'uh', 'liftin', 'liftin', 'liftin', 'yeah', 'tearin', 'tearin', 'yeah', 'ill', 'take', 'responsibility', 'everything', 'ive', 'done', 'yeah', 'holdin', 'like', 'youre', 'holy', 'one', 'yeah', 'chip', 'shoulder', 'let', 'go', 'cause', 'unforgiveness', 'keeps', 'control', 'came', 'good', 'intentions', 'let', 'go', 'really', 'wanna', 'know', 'trip', 'oh', 'fall', 'fall', 'monster', 'monster', 'let', 'know', 'let', 'know', 'sin', 'oh', 'break', 'yeah', 'break', 'monster', 'monster', 'let', 'know', 'oh', 'please', 'let', 'know', 'yeah', 'la', 'da', 'da', 'duh', 'duh', 'baby', 'fall', 'la', 'da', 'da', 'duh', 'duh', 'duh', 'na', 'la', 'da', 'da', 'da', 'duh', 'duh', 'la', 'da', 'da', 'duh', 'duh', 'duh', 'na', 'la', 'da', 'da', 'duh', 'duh', 'please', 'dont', 'let', 'fall', 'la', 'da', 'da', 'duh', 'duh', 'duh', 'na', 'la', 'da', 'da', 'da', 'duh', 'duh', 'oh', 'please', 'dont', 'let', 'fall', 'la', 'da', 'da', 'duh', 'duh', 'duh', 'na']\""
      ]
     },
     "execution_count": 14,
     "metadata": {},
     "output_type": "execute_result"
    }
   ],
   "source": [
    "music_df['filtered'][0]"
   ]
  },
  {
   "cell_type": "code",
   "execution_count": 10,
   "metadata": {},
   "outputs": [
    {
     "data": {
      "text/plain": [
       "'(262144,[3386,3924,18184,21823,30548,31015,37521,48531,55639,56998,60080,62058,65298,65844,68847,71619,72597,73199,77751,77772,81662,82065,85530,87273,87623,90468,97280,113299,113432,123940,124348,126368,140286,140762,140784,140931,145126,145380,148081,148675,150152,151864,152982,155889,157377,159534,160334,165688,166027,166368,167440,168828,170414,171222,172247,172888,173339,175446,176260,176996,184868,188565,191497,197126,200147,203458,208258,208792,209749,218192,223619,229264,231139,233391,233762,234620,235248,237465,241651,248069,248097,249180,258731],[4.0,1.0,4.0,1.0,3.0,2.0,6.0,1.0,1.0,2.0,1.0,1.0,1.0,1.0,1.0,1.0,2.0,1.0,2.0,1.0,1.0,11.0,1.0,2.0,1.0,1.0,1.0,1.0,1.0,1.0,3.0,1.0,18.0,8.0,1.0,7.0,1.0,1.0,1.0,2.0,1.0,1.0,20.0,1.0,1.0,1.0,1.0,1.0,1.0,3.0,6.0,1.0,1.0,1.0,1.0,1.0,10.0,1.0,1.0,1.0,1.0,2.0,1.0,1.0,1.0,1.0,1.0,1.0,1.0,1.0,1.0,1.0,1.0,1.0,1.0,2.0,1.0,1.0,1.0,1.0,1.0,1.0,1.0])'"
      ]
     },
     "execution_count": 10,
     "metadata": {},
     "output_type": "execute_result"
    }
   ],
   "source": [
    "music_df['hashedValues'][0]"
   ]
  },
  {
   "cell_type": "code",
   "execution_count": null,
   "metadata": {},
   "outputs": [],
   "source": []
  },
  {
   "cell_type": "code",
   "execution_count": 16,
   "metadata": {},
   "outputs": [
    {
     "data": {
      "text/plain": [
       "' put pedestal tell im best raise sky im short breath yeah fill confidence say whats chest spill words tear theres nothin left rearrange pieces fit rest yeah trip fall monster let know sin break yeah monster yeah let know yeah fifteen world put pedestal big dreams doin shows making memories made bad moves tryin act cool upset jealousy uh liftin liftin liftin yeah tearin tearin yeah ill take responsibility everything ive done yeah holdin like youre holy one yeah chip shoulder let go cause unforgiveness keeps control came good intentions let go really wanna know trip oh fall fall monster monster let know let know sin oh break yeah break monster monster let know oh please let know yeah la da da duh duh baby fall la da da duh duh duh na la da da da duh duh la da da duh duh duh na la da da duh duh please dont let fall la da da duh duh duh na la da da da duh duh oh please dont let fall la da da duh duh duh na'"
      ]
     },
     "execution_count": 16,
     "metadata": {},
     "output_type": "execute_result"
    }
   ],
   "source": [
    "filtered_words = music_df['filtered'][0]\n",
    "filtered_words = filtered_words.replace(',', '').replace(\"'\", '')\n",
    "filtered_words = filtered_words.replace('[', '').replace(']', '')\n",
    "filtered_words"
   ]
  },
  {
   "cell_type": "code",
   "execution_count": 28,
   "metadata": {},
   "outputs": [
    {
     "name": "stdout",
     "output_type": "stream",
     "text": [
      "There are 82 unique words.\n",
      "There are 180 words.\n"
     ]
    }
   ],
   "source": [
    "unique_words = list(set(filtered_words.strip().split(' ')))\n",
    "words_list = list(filtered_words.strip().split(' '))\n",
    "print(f'There are {len(unique_words)} unique words.')\n",
    "print(f'There are {len(words_list)} words.')"
   ]
  },
  {
   "cell_type": "code",
   "execution_count": null,
   "metadata": {},
   "outputs": [],
   "source": []
  },
  {
   "cell_type": "code",
   "execution_count": null,
   "metadata": {},
   "outputs": [],
   "source": []
  },
  {
   "cell_type": "code",
   "execution_count": null,
   "metadata": {},
   "outputs": [],
   "source": [
    "# Put the second element of the hashedValues column into rows of a new DataFrame"
   ]
  },
  {
   "cell_type": "code",
   "execution_count": null,
   "metadata": {},
   "outputs": [],
   "source": [
    "music_df['hashedValues'][0]"
   ]
  },
  {
   "cell_type": "code",
   "execution_count": 11,
   "metadata": {},
   "outputs": [
    {
     "data": {
      "text/plain": [
       "Unnamed: 0       int64\n",
       "song            object\n",
       "artist          object\n",
       "category        object\n",
       "lyrics          object\n",
       "words           object\n",
       "filtered        object\n",
       "hashedValues    object\n",
       "features        object\n",
       "dtype: object"
      ]
     },
     "execution_count": 11,
     "metadata": {},
     "output_type": "execute_result"
    }
   ],
   "source": [
    "music_df.dtypes"
   ]
  },
  {
   "cell_type": "code",
   "execution_count": null,
   "metadata": {},
   "outputs": [],
   "source": [
    "# Transform the filtered column into an array and make columns with term fequencies"
   ]
  },
  {
   "cell_type": "code",
   "execution_count": null,
   "metadata": {},
   "outputs": [],
   "source": [
    "# Make the song name be the index of the DataFrame"
   ]
  }
 ],
 "metadata": {
  "kernelspec": {
   "display_name": "Python 3",
   "language": "python",
   "name": "python3"
  },
  "language_info": {
   "codemirror_mode": {
    "name": "ipython",
    "version": 3
   },
   "file_extension": ".py",
   "mimetype": "text/x-python",
   "name": "python",
   "nbconvert_exporter": "python",
   "pygments_lexer": "ipython3",
   "version": "3.7.3"
  }
 },
 "nbformat": 4,
 "nbformat_minor": 4
}
