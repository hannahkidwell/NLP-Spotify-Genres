{
 "cells": [
  {
   "cell_type": "code",
   "execution_count": 5,
   "metadata": {},
   "outputs": [],
   "source": [
    "import requests\n",
    "import json"
   ]
  },
  {
   "cell_type": "code",
   "execution_count": 2,
   "metadata": {},
   "outputs": [
    {
     "name": "stdout",
     "output_type": "stream",
     "text": [
      "{\"layout\":\"5\",\"type\":\"MUSIC\",\"key\":\"40333609\",\"title\":\"River Flows In You\",\"subtitle\":\"Yiruma\",\"images\":{\"background\":\"https://is3-ssl.mzstatic.com/image/thumb/Features114/v4/7b/a6/72/7ba672d2-6383-4c8e-13fb-36004cfb6b69/mzl.rsxdpqqq.jpg/800x800bb.jpeg\",\"coverart\":\"https://images.shazam.com/coverart/t40333609-b1436677761_s400.jpg\",\"coverarthq\":\"https://images.shazam.com/coverart/t40333609-b1436677761_s800.jpg\"},\"share\":{\"subject\":\"River Flows In You - Yiruma\",\"text\":\"I used Shazam to discover River Flows In You by Yiruma.\",\"href\":\"https://www.shazam.com/track/40333609/river-flows-in-you\",\"image\":\"https://images.shazam.com/coverart/t40333609-i1436677761_s400.jpg\",\"twitter\":\"I used @Shazam to discover River Flows In You by Yiruma.\",\"html\":\"https://www.shazam.com/snippets/email-share/40333609?lang=en-US&country=US\",\"avatar\":\"https://is3-ssl.mzstatic.com/image/thumb/Features114/v4/7b/a6/72/7ba672d2-6383-4c8e-13fb-36004cfb6b69/mzl.rsxdpqqq.jpg/800x800bb.jpeg\",\"snapchat\":\"https://www.shazam.com/partner/sc/track/40333609\"},\"hub\":{\"type\":\"APPLEMUSIC\",\"image\":\"https://images.shazam.com/static/icons/hub/ios/v5/applemusic_{scalefactor}.png\",\"actions\":[{\"name\":\"apple\",\"type\":\"applemusicplay\",\"id\":\"1436677761\"},{\"name\":\"apple\",\"type\":\"uri\",\"uri\":\"https://audio-ssl.itunes.apple.com/itunes-assets/AudioPreview128/v4/dc/99/c9/dc99c97b-6e01-573c-17cc-029488db9747/mzaf_1930545846536417812.plus.aac.p.m4a\"}],\"options\":[{\"caption\":\"OPEN\",\"actions\":[{\"name\":\"hub:applemusic:deeplink\",\"type\":\"applemusicopen\",\"uri\":\"https://music.apple.com/us/album/river-flows-in-you/1436677753?i=1436677761&uo=5&mttnagencyid=769459046716559743&mttnsiteid=125115&mttn3pid=a_custom_779816081798873874&mttnsub1=Shazam_ios&mttnsub2=5348615A-616D-3235-3830-44754D6D5973&itscg=30201&app=music&itsct=Shazam_ios\"},{\"name\":\"hub:applemusic:deeplink\",\"type\":\"uri\",\"uri\":\"https://music.apple.com/us/album/river-flows-in-you/1436677753?i=1436677761&uo=5&mttnagencyid=769459046716559743&mttnsiteid=125115&mttn3pid=a_custom_779816081798873874&mttnsub1=Shazam_ios&mttnsub2=5348615A-616D-3235-3830-44754D6D5973&itscg=30201&app=music&itsct=Shazam_ios\"}],\"beacondata\":{\"type\":\"open\",\"providername\":\"applemusic\"},\"image\":\"https://images.shazam.com/static/icons/hub/ios/v5/overflow-open-option_{scalefactor}.png\",\"type\":\"open\",\"listcaption\":\"Open in Apple Music\",\"overflowimage\":\"https://images.shazam.com/static/icons/hub/ios/v5/applemusic-overflow_{scalefactor}.png\",\"colouroverflowimage\":false,\"providername\":\"applemusic\"},{\"caption\":\"BUY\",\"actions\":[{\"type\":\"itunesbuy\",\"uri\":\"https://itunes.apple.com/us/album/river-flows-in-you/1436677753?i=1436677761&uo=5&app=itunes\"}],\"beacondata\":{\"type\":\"buy\",\"providername\":\"itunes\"},\"image\":\"https://images.shazam.com/static/icons/hub/ios/v5/itunes-overflow-buy_{scalefactor}.png\",\"type\":\"buy\",\"listcaption\":\"Buy on iTunes\",\"overflowimage\":\"https://images.shazam.com/static/icons/hub/ios/v5/itunes-overflow-buy_{scalefactor}.png\",\"colouroverflowimage\":false,\"providername\":\"itunes\"}],\"providers\":[{\"caption\":\"Open in Spotify\",\"images\":{\"overflow\":\"https://images.shazam.com/static/icons/hub/ios/v5/spotify-overflow_{scalefactor}.png\",\"default\":\"https://images.shazam.com/static/icons/hub/ios/v5/spotify_{scalefactor}.png\"},\"actions\":[{\"name\":\"hub:spotify:deeplink\",\"type\":\"uri\",\"uri\":\"spotify:track:3xr8COed4nPPn6XWZ0iCGr\"},{\"name\":\"hub:spotify:androidsearchdeeplink\",\"type\":\"intent\",\"uri\":\"intent:#Intent;action=android.media.action.MEDIA_PLAY_FROM_SEARCH;component=com.spotify.music/.MainActivity;S.referrer=Shazam;S.query=River%20Flows%20In%20You%20Yiruma;end\"},{\"name\":\"hub:spotify:iossearchdeeplink\",\"type\":\"uri\",\"uri\":\"spotify:search:River%20Flows%20In%20You%20Yiruma\"}],\"type\":\"SPOTIFY\"},{\"caption\":\"Open in Deezer\",\"images\":{\"overflow\":\"https://images.shazam.com/static/icons/hub/ios/v5/deezer-overflow_{scalefactor}.png\",\"default\":\"https://images.shazam.com/static/icons/hub/ios/v5/deezer_{scalefactor}.png\"},\"actions\":[{\"name\":\"hub:deezer:searchdeeplink\",\"type\":\"uri\",\"uri\":\"deezer-query://www.deezer.com/play?query=%7Btrack%3A%27River+Flows+In+You%27%20artist%3A%27Yiruma%27%7D\"}],\"type\":\"DEEZER\"}],\"explicit\":false,\"displayname\":\"APPLE MUSIC\"},\"url\":\"https://www.shazam.com/track/40333609/river-flows-in-you\",\"artists\":[{\"id\":\"40008598\",\"adamid\":\"73406786\"}],\"isrc\":\"HKOA10616988\",\"genres\":{\"primary\":\"Instrumental\"},\"urlparams\":{\"{tracktitle}\":\"River+Flows+In+You\",\"{trackartist}\":\"Yiruma\"},\"myshazam\":{\"itunes\":{\"actions\":[{\"name\":\"myshazam:itunes\",\"type\":\"uri\",\"uri\":\"https://itunes.apple.com/us/album/river-flows-in-you/1436677753?i=1436677761&uo=5&app=itunes\"}]},\"apple\":{\"actions\":[{\"name\":\"myshazam:apple\",\"type\":\"uri\",\"uri\":\"https://music.apple.com/us/album/river-flows-in-you/1436677753?i=1436677761&uo=5&mttnagencyid=769459046716559743&mttnsiteid=125115&mttn3pid=a_custom_779816081798873874&mttnsub1=Shazam_ios&mttnsub2=5348615A-616D-3235-3830-44754D6D5973&itscg=30201&app=music&itsct=Shazam_ios\"}]}},\"albumadamid\":\"1436677753\",\"sections\":[{\"type\":\"SONG\",\"metapages\":[{\"image\":\"https://is3-ssl.mzstatic.com/image/thumb/Features114/v4/7b/a6/72/7ba672d2-6383-4c8e-13fb-36004cfb6b69/mzl.rsxdpqqq.jpg/800x800bb.jpeg\",\"caption\":\"Yiruma\"},{\"image\":\"https://images.shazam.com/coverart/t40333609-b1436677761_s800.jpg\",\"caption\":\"River Flows In You\"}],\"tabname\":\"Song\",\"metadata\":[{\"title\":\"Album\",\"text\":\"Yiruma 2nd Album 'First Love' (The Original & the Very First Recording)\"},{\"title\":\"Label\",\"text\":\"Stomp Music\"},{\"title\":\"Released\",\"text\":\"2001\"}]},{\"type\":\"VIDEO\",\"tabname\":\"Video\",\"youtubeurl\":{\"caption\":\"Yiruma, (이루마) - River Flows in You\",\"image\":{\"dimensions\":{\"width\":1280,\"height\":720},\"url\":\"https://i.ytimg.com/vi/7maJOI3QMu0/maxresdefault.jpg\"},\"actions\":[{\"name\":\"video:youtube\",\"type\":\"webview\",\"share\":{\"subject\":\"River Flows In You - Yiruma\",\"text\":\"I used Shazam to discover River Flows In You by Yiruma.\",\"href\":\"https://www.shazam.com/track/40333609/river-flows-in-you\",\"image\":\"https://images.shazam.com/coverart/t40333609-i1436677761_s400.jpg\",\"twitter\":\"I used @Shazam to discover River Flows In You by Yiruma.\",\"html\":\"https://www.shazam.com/snippets/email-share/40333609?lang=-&country=US\",\"avatar\":\"https://is3-ssl.mzstatic.com/image/thumb/Features114/v4/7b/a6/72/7ba672d2-6383-4c8e-13fb-36004cfb6b69/mzl.rsxdpqqq.jpg/800x800bb.jpeg\",\"snapchat\":\"https://www.shazam.com/partner/sc/track/40333609\"},\"uri\":\"https://youtu.be/7maJOI3QMu0?autoplay=1\"}]}},{\"type\":\"ARTIST\",\"avatar\":\"https://is3-ssl.mzstatic.com/image/thumb/Features114/v4/7b/a6/72/7ba672d2-6383-4c8e-13fb-36004cfb6b69/mzl.rsxdpqqq.jpg/800x800bb.jpeg\",\"id\":\"40008598\",\"name\":\"Yiruma\",\"verified\":false,\"actions\":[{\"type\":\"artistposts\",\"id\":\"40008598\"},{\"type\":\"artist\",\"id\":\"40008598\"}],\"tabname\":\"Artist\"},{\"type\":\"RELATED\",\"tabname\":\"Related\"}]}\n"
     ]
    }
   ],
   "source": [
    "import requests\n",
    "\n",
    "url = \"https://shazam.p.rapidapi.com/songs/get-details\"\n",
    "\n",
    "querystring = {\"key\":\"40333609\",\"locale\":\"en-US\"}\n",
    "\n",
    "headers = {\n",
    "    'x-rapidapi-key': \"6168a7bdf3msh4517f44a33807b7p1ece44jsn1d05ec3b227c\",\n",
    "    'x-rapidapi-host': \"shazam.p.rapidapi.com\"\n",
    "    }\n",
    "\n",
    "response = requests.request(\"GET\", url, headers=headers, params=querystring)\n",
    "\n",
    "print(response.text)"
   ]
  },
  {
   "cell_type": "code",
   "execution_count": null,
   "metadata": {},
   "outputs": [],
   "source": []
  }
 ],
 "metadata": {
  "kernelspec": {
   "display_name": "Python 3",
   "language": "python",
   "name": "python3"
  },
  "language_info": {
   "codemirror_mode": {
    "name": "ipython",
    "version": 3
   },
   "file_extension": ".py",
   "mimetype": "text/x-python",
   "name": "python",
   "nbconvert_exporter": "python",
   "pygments_lexer": "ipython3",
   "version": "3.7.7"
  }
 },
 "nbformat": 4,
 "nbformat_minor": 4
}
