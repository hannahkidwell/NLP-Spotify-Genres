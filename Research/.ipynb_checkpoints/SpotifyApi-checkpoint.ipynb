{
 "cells": [
  {
   "cell_type": "code",
   "execution_count": 1,
   "metadata": {},
   "outputs": [],
   "source": [
    "import requests\n",
    "import json"
   ]
  },
  {
   "cell_type": "code",
   "execution_count": 4,
   "metadata": {},
   "outputs": [],
   "source": [
    "endpoint_url = \"https://api.spotify.com/v1/recommendations?\"\n",
    "access_token = \"BQCX0dE7Ic484wURFHr3M0XROSllq9vb0qxjXXPnBAU8f6Z65WOKkUnlt77_v0lsWvpFHze0MMKDb5MtpJTa8VR0UDo3HCC-7Vh7O_OvoIaqP14DvWiUoSKLLpkBzYjx9lGPXVP-5ttf_JJjdvPaHDeLOlQPOq_oIKY\"\n",
    "uris = []"
   ]
  },
  {
   "cell_type": "code",
   "execution_count": 5,
   "metadata": {},
   "outputs": [
    {
     "name": "stdout",
     "output_type": "stream",
     "text": [
      "1) \"Don't\" by Ed Sheeran\n",
      "2) \"Work from Home (feat. Ty Dolla $ign)\" by Fifth Harmony\n",
      "3) \"California Gurls\" by Katy Perry\n",
      "4) \"Hands To Myself\" by Selena Gomez\n",
      "5) \"Call Me Maybe\" by Carly Rae Jepsen\n",
      "6) \"Just Dance\" by Lady Gaga\n",
      "7) \"Nina\" by Ed Sheeran\n",
      "8) \"BO$$\" by Fifth Harmony\n",
      "9) \"What Do You Mean?\" by Justin Bieber\n",
      "10) \"Kill Em With Kindness\" by Selena Gomez\n"
     ]
    }
   ],
   "source": [
    "#FILTERS\n",
    "limit = 10 #number of songs in playlist\n",
    "market = \"AU\"\n",
    "seed_genres = \"dance\"\n",
    "target_danceability = 0.8\n",
    "seed_artists = \"06HL4z0CvFAxyc27GXpf02\"\n",
    "\n",
    "query = f'{endpoint_url}limit={limit}&market={market}&seed_artists={seed_artists}&target_danceability={target_danceability}'\n",
    "\n",
    "response =requests.get(query,\n",
    "               headers={\"Content-Type\":\"application/json\",\n",
    "                        \"Authorization\":f\"Bearer {access_token}\"})\n",
    "\n",
    "json_response = response.json() #JSON data of songs\n",
    "\n",
    "for i,j in enumerate(json_response['tracks']):\n",
    "            uris.append(j['uri'])\n",
    "            print(f\"{i+1}) \\\"{j['name']}\\\" by {j['artists'][0]['name']}\")"
   ]
  },
  {
   "cell_type": "code",
   "execution_count": null,
   "metadata": {},
   "outputs": [],
   "source": []
  }
 ],
 "metadata": {
  "kernelspec": {
   "display_name": "PythonData",
   "language": "python",
   "name": "pythondata"
  },
  "language_info": {
   "codemirror_mode": {
    "name": "ipython",
    "version": 3
   },
   "file_extension": ".py",
   "mimetype": "text/x-python",
   "name": "python",
   "nbconvert_exporter": "python",
   "pygments_lexer": "ipython3",
   "version": "3.7.7"
  }
 },
 "nbformat": 4,
 "nbformat_minor": 4
}
