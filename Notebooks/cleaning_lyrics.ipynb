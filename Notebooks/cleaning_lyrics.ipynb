{
 "cells": [
  {
   "cell_type": "code",
   "execution_count": 36,
   "metadata": {},
   "outputs": [],
   "source": [
    "import lyricsgenius\n",
    "from config import genius_token\n",
    "import pandas as pd\n",
    "import numpy as np\n",
    "import re"
   ]
  },
  {
   "cell_type": "code",
   "execution_count": 2,
   "metadata": {},
   "outputs": [],
   "source": [
    "genius = lyricsgenius.Genius(genius_token)"
   ]
  },
  {
   "cell_type": "code",
   "execution_count": 14,
   "metadata": {},
   "outputs": [
    {
     "name": "stdout",
     "output_type": "stream",
     "text": [
      "Searching for songs by Andy Shauf...\n",
      "\n",
      "Song 1: \"Alexander All Alone\"\n",
      "\n",
      "Reached user-specified song limit (1).\n",
      "Done. Found 1 songs.\n",
      "Searching for \"To You\" by Andy Shauf...\n",
      "Done.\n"
     ]
    }
   ],
   "source": [
    "# Get the lyrics for 'To You' by Andy Shauf\n",
    "artist = genius.search_artist('Andy Shauf', max_songs=1, sort='title')\n",
    "song = genius.search_song('To You', artist.name)\n",
    "lyrics = song.lyrics"
   ]
  },
  {
   "cell_type": "code",
   "execution_count": 6,
   "metadata": {},
   "outputs": [
    {
     "name": "stdout",
     "output_type": "stream",
     "text": [
      "Jeremy can we talk a minute?\n",
      "I've got some things that I need to\n",
      "Get off of my chest\n",
      "\n",
      "I know that we have had a few\n",
      "And it's far too late\n",
      "But if I wait I might never tell you\n",
      "\n",
      "Can we find somewhere quiet?\n",
      "Let's go outside\n",
      "I've got some smokes if you've got a light\n",
      "\n",
      "It's just that sometimes when I'm by your side\n",
      "It feels so right\n",
      "It feels like nothing could go wrong\n",
      "\n",
      "Does it ever\n",
      "Feel like that to you?\n",
      "Does it ever\n",
      "Feel like that to you?\n",
      "\n",
      "Oh I don't know what I mean\n",
      "It sounded wrong and I'm just tired\n",
      "Not being weird\n",
      "\n",
      "I just mean that you're a good friend\n",
      "It's hard to explain\n",
      "Just forget I said anything\n",
      "\n",
      "Get over yourself\n",
      "I'm not in love with you\n",
      "It just came out all wrong\n",
      "\n",
      "Yeah\n",
      "Tell the guys and laugh it up\n",
      "Why am I even surprised?\n",
      "\n",
      "That it never\n",
      "Feels like that to you\n",
      "That it never\n",
      "Feels like that to you\n",
      "I guess it never\n",
      "Feels like that to you\n",
      "I guess it never\n",
      "Feels like that to you\n"
     ]
    }
   ],
   "source": [
    "print(lyrics)"
   ]
  },
  {
   "cell_type": "code",
   "execution_count": 10,
   "metadata": {},
   "outputs": [
    {
     "data": {
      "text/plain": [
       "[\"Jeremy can we talk a minute?\\nI've got some things that I need to\\nGet off of my chest\\n\\nI know that we have had a few\\nAnd it's far too late\\nBut if I wait I might never tell you\\n\\nCan we find somewhere quiet?\\nLet's go outside\\nI've got some smokes if you've got a light\\n\\nIt's just that sometimes when I'm by your side\\nIt feels so right\\nIt feels like nothing could go wrong\\n\\nDoes it ever\\nFeel like that to you?\\nDoes it ever\\nFeel like that to you?\\n\\nOh I don't know what I mean\\nIt sounded wrong and I'm just tired\\nNot being weird\\n\\nI just mean that you're a good friend\\nIt's hard to explain\\nJust forget I said anything\\n\\nGet over yourself\\nI'm not in love with you\\nIt just came out all wrong\\n\\nYeah\\nTell the guys and laugh it up\\nWhy am I even surprised?\\n\\nThat it never\\nFeels like that to you\\nThat it never\\nFeels like that to you\\nI guess it never\\nFeels like that to you\\nI guess it never\\nFeels like that to you\"]"
      ]
     },
     "execution_count": 10,
     "metadata": {},
     "output_type": "execute_result"
    }
   ],
   "source": [
    "lyric_list = []\n",
    "lyric_list.append(lyrics)\n",
    "lyric_list"
   ]
  },
  {
   "cell_type": "code",
   "execution_count": 15,
   "metadata": {},
   "outputs": [
    {
     "data": {
      "text/plain": [
       "896"
      ]
     },
     "execution_count": 15,
     "metadata": {},
     "output_type": "execute_result"
    }
   ],
   "source": [
    "len(lyrics)"
   ]
  },
  {
   "cell_type": "code",
   "execution_count": 44,
   "metadata": {},
   "outputs": [
    {
     "data": {
      "text/plain": [
       "\"Jeremy can we talk a minute I've got some things that I need to Get off of my chest  I know that we have had a few And it's far too late But if I wait I might never tell you  Can we find somewhere quiet Let's go outside I've got some smokes if you've got a light  It's just that sometimes when I'm by your side It feels so right It feels like nothing could go wrong  Does it ever Feel like that to you Does it ever Feel like that to you  Oh I don't know what I mean It sounded wrong and I'm just tired Not being weird  I just mean that you're a good friend It's hard to explain Just forget I said anything  Get over yourself I'm not in love with you It just came out all wrong  Yeah Tell the guys and laugh it up Why am I even surprised  That it never Feels like that to you That it never Feels like that to you I guess it never Feels like that to you I guess it never Feels like that to you\""
      ]
     },
     "execution_count": 44,
     "metadata": {},
     "output_type": "execute_result"
    }
   ],
   "source": [
    "lyrics = lyrics.replace('\\n', ' ').replace('?', '').replace(',', '')\n",
    "lyrics"
   ]
  },
  {
   "cell_type": "code",
   "execution_count": 45,
   "metadata": {},
   "outputs": [
    {
     "data": {
      "text/plain": [
       "98"
      ]
     },
     "execution_count": 45,
     "metadata": {},
     "output_type": "execute_result"
    }
   ],
   "source": [
    "unique_words = set(lyrics.lower().split(' '))\n",
    "len(unique_words)"
   ]
  },
  {
   "cell_type": "code",
   "execution_count": 64,
   "metadata": {},
   "outputs": [
    {
     "name": "stdout",
     "output_type": "stream",
     "text": [
      "Searching for \"Monster\" by Shawn Mendes...\n",
      "Done.\n"
     ]
    }
   ],
   "source": [
    "# Get the lyrics for 'Monster' by Shawn Mendes\n",
    "song = genius.search_song('Monster', 'Shawn Mendes')\n",
    "monster_lyrics = song.lyrics"
   ]
  },
  {
   "cell_type": "code",
   "execution_count": 65,
   "metadata": {},
   "outputs": [
    {
     "data": {
      "text/plain": [
       "' You put me on a pedestal and tell me Im the best Raise me up into the sky until Im short of breath Yeah Fill me up with confidence I say whats in my chest Spill my words and tear me down until theres nothin left Rearrange the pieces just to fit me with the rest yeah   But what if I what if I trip What if I what if I fall Then am I the monster Just let me know And what if I what if I sin And what if I what if I break Yeah Then am I the monster Yeah Just let me know yeah   I was fifteen when the world put me on a pedestal I had big dreams of doin shows and making memories Made some bad moves tryin to act cool upset by their jealousy uh Liftin me up Liftin me up liftin me up Yeah And tearin me down Down tearin me down Down down yeah Ill take responsibility for everything Ive done Yeah Holdin it against me like youre the holy one Yeah   I had a chip on my shoulder had to let it go Cause unforgiveness keeps them in control I came in with good intentions then I let it go And now I really wanna know   What if I what if I trip Oh What if I what if I fall I fall Then am I the monster Am I the monster Just let me know Let me know And what if I what if I sin Oh And what if I what if I break Yeah What if I break Then am I the monster Am I the monster Just let me know Oh please just let me know yeah   La da da duh duh Baby what if I fall down La da da duh duh duh na La da da da duh duh La da da duh duh duh na La da da duh duh Please dont let me fall La da da duh duh duh na La da da da duh duh Oh please dont let me fall La da da duh duh duh na'"
      ]
     },
     "execution_count": 65,
     "metadata": {},
     "output_type": "execute_result"
    }
   ],
   "source": [
    "# Replace '\\u205f', '  ', '\\n', '-' with spaces and remove '?', ',', '(', ')', \"'\", '’'\n",
    "monster_lyrics = monster_lyrics.replace('\\u205f', ' ').replace('  ', ' ').replace('  ', ' ')\n",
    "monster_lyrics = monster_lyrics.replace('\\n', ' ').replace('-', ' ')\n",
    "monster_lyrics = monster_lyrics.replace('?', '').replace(',', '')\n",
    "monster_lyrics = monster_lyrics.replace('(', '').replace(')', '')\n",
    "monster_lyrics = monster_lyrics.replace(\"'\", '').replace('’', '')\n",
    "# Remove text enclosed in brackets \n",
    "monster_lyrics = re.sub('\\[(.*?)\\]', '', monster_lyrics)\n",
    "monster_lyrics"
   ]
  },
  {
   "cell_type": "code",
   "execution_count": 66,
   "metadata": {},
   "outputs": [
    {
     "data": {
      "text/plain": [
       "116"
      ]
     },
     "execution_count": 66,
     "metadata": {},
     "output_type": "execute_result"
    }
   ],
   "source": [
    "unique_words = set(monster_lyrics.lower().split(' '))\n",
    "len(unique_words)"
   ]
  },
  {
   "cell_type": "code",
   "execution_count": 67,
   "metadata": {},
   "outputs": [
    {
     "name": "stdout",
     "output_type": "stream",
     "text": [
      "Searching for \"positions\" by Ariana Grande...\n",
      "Done.\n"
     ]
    }
   ],
   "source": [
    "# Get the lyrics for 'positions' by Ariana Grande\n",
    "song = genius.search_song('positions', 'Ariana Grande')\n",
    "positions_lyrics = song.lyrics"
   ]
  },
  {
   "cell_type": "code",
   "execution_count": 68,
   "metadata": {},
   "outputs": [
    {
     "data": {
      "text/plain": [
       "' Heaven sent you to me Im just hopin I dont repeat history   Boy Im tryna meet your mama on a Sunday Then make a lotta love on a Monday Ah ah Never need no No no one else babe Cause Ill be   Switchin them positions for you Cookin in the kitchen and Im in the bedroom Im in the Olympics way Im jumpin through hoops Know my love infinite nothin I wouldnt do That I wont do switchin for you   Perfect perfect Youre too good to be true Youre too good to be true But I get tired of runnin fuck it Now Im runnin with you With you   Said boy Im tryna meet your mama on a Sunday Then make a lotta love on a Monday Ah ah Never need no No no onе else babe Causе Ill be   Switchin them positions for you Cookin in the kitchen and Im in the bedroom Im in the Olympics way Im jumpin through hoops Know my love infinite nothin I wouldnt do That I wont do switchin for you Cookin in the kitchen and Im in the bedroom Im in the Olympics way Im jumpin through hoops Know my love infinite nothin I wouldnt do Nothin That I wont do switchin for you   This some shit that I usually dont do Yeah But for you I kinda kinda want to Mmm Cause youre down for me and Im down too And Im down too Yeah Im down too Switchin the positions for you This some shit that I Yeah usually dont do Dont do But for you I kinda kinda want to Mmm Cause youre down for me and Im down too Cause youre down for me   Switchin them positions for you Cookin in the kitchen and Im in the bedroom Im in the Olympics way Im jumpin through hoops Jumpin jumpin Know my love infinite nothin I wouldnt do That I wont do switchin for you Ooh woah Cookin in the kitchen and Im in the bedroom Im in the Olympics way Im jumpin through hoops Know my love infinite nothin I wouldnt do I wouldnt do That I wont do switchin for you   Yeah Ah yeah Ah Ah yeah'"
      ]
     },
     "execution_count": 68,
     "metadata": {},
     "output_type": "execute_result"
    }
   ],
   "source": [
    "# Replace '\\u205f', '  ', '\\n', '-' with spaces and remove '?', ',', '(', ')', \"'\", '’'\n",
    "positions_lyrics = positions_lyrics.replace('\\u205f', ' ').replace('  ', ' ').replace('  ', ' ')\n",
    "positions_lyrics = positions_lyrics.replace('\\n', ' ').replace('-', ' ')\n",
    "positions_lyrics = positions_lyrics.replace('?', '').replace(',', '')\n",
    "positions_lyrics = positions_lyrics.replace('(', '').replace(')', '')\n",
    "positions_lyrics = positions_lyrics.replace(\"'\", '').replace('’', '')\n",
    "# Remove text enclosed in brackets \n",
    "positions_lyrics = re.sub('\\[(.*?)\\]', '', positions_lyrics)\n",
    "positions_lyrics"
   ]
  },
  {
   "cell_type": "code",
   "execution_count": 69,
   "metadata": {},
   "outputs": [
    {
     "data": {
      "text/plain": [
       "87"
      ]
     },
     "execution_count": 69,
     "metadata": {},
     "output_type": "execute_result"
    }
   ],
   "source": [
    "unique_words = set(positions_lyrics.lower().split(' '))\n",
    "len(unique_words)"
   ]
  },
  {
   "cell_type": "code",
   "execution_count": 63,
   "metadata": {},
   "outputs": [
    {
     "name": "stdout",
     "output_type": "stream",
     "text": [
      "Searching for \"Therefore I Am\" by Billie Eilish...\n",
      "Done.\n"
     ]
    }
   ],
   "source": [
    "# Get the lyrics for 'Therefore I Am' by Billie Eilish\n",
    "song = genius.search_song('Therefore I Am', 'Billie Eilish')\n",
    "lyrics = song.lyrics"
   ]
  },
  {
   "cell_type": "code",
   "execution_count": 70,
   "metadata": {},
   "outputs": [
    {
     "data": {
      "text/plain": [
       "' Im not your friend Or anything damn You think that youre the man I think therefore I am Im not your friend Or anything damn You think that youre the man I think therefore I am   Stop what the hell are you talking about Ha Get my pretty name out of your mouth We are not the same with or without Dont talk bout me like how you might know how I feel Top of the world but your world isnt real Your worlds an ideal   So go have fun I really couldnt care less And you can give em my best but just know   Im not your friend Or anything damn You think that youre the man I think therefore I am Im not your friend Or anything damn You think that youre the man I think therefore I am   I dont want press to put your name next to mine Were on different lines so I Wanna be nice enough they dont call my bluff Cause I hate to find Articles articles articles Rather you remain unremarkable Got a lotta Interviews interviews interviews When they say your name I just act confused   Did you have fun I really couldnt care less And you can give em my best but just know   Im not your friend Or anything damn You think that youre the man I think therefore I am Im not your friend Or anything damn You think that youre the man I think therefore I am   Im sorry I dont think I caught your name Im sorry I dont think I caught your name   Im not your friend Im not your friend Or anything damn You think that youre the man They wanna they can try I think therefore I am I am Im not your friend Friend Or anything damn They wanna You think that youre the man Youre the man I think therefore I am Therefore I am'"
      ]
     },
     "execution_count": 70,
     "metadata": {},
     "output_type": "execute_result"
    }
   ],
   "source": [
    "# Replace '\\u205f', '  ', '\\n', '-' with spaces and remove '?', ',', '(', ')', \"'\", '’'\n",
    "lyrics = lyrics.replace('\\u205f', ' ').replace('  ', ' ').replace('  ', ' ')\n",
    "lyrics = lyrics.replace('\\n', ' ').replace('-', ' ')\n",
    "lyrics = lyrics.replace('?', '').replace(',', '')\n",
    "lyrics = lyrics.replace('(', '').replace(')', '')\n",
    "lyrics = lyrics.replace(\"'\", '').replace('’', '')\n",
    "# Remove text enclosed in brackets \n",
    "lyrics = re.sub('\\[(.*?)\\]', '', lyrics)\n",
    "lyrics"
   ]
  },
  {
   "cell_type": "code",
   "execution_count": 72,
   "metadata": {},
   "outputs": [
    {
     "data": {
      "text/plain": [
       "102"
      ]
     },
     "execution_count": 72,
     "metadata": {},
     "output_type": "execute_result"
    }
   ],
   "source": [
    "unique_words = set(lyrics.lower().split(' '))\n",
    "len(unique_words)"
   ]
  },
  {
   "cell_type": "code",
   "execution_count": 73,
   "metadata": {},
   "outputs": [
    {
     "name": "stdout",
     "output_type": "stream",
     "text": [
      "Searching for \"Levitating (feat. DaBaby)\" by Dua Lipa...\n",
      "Done.\n"
     ]
    }
   ],
   "source": [
    "# Get the lyrics for 'Levitating (feat. DaBaby)' by Dua Lipa\n",
    "song = genius.search_song('Levitating (feat. DaBaby)', 'Dua Lipa')\n",
    "levitating_lyrics = song.lyrics"
   ]
  },
  {
   "cell_type": "code",
   "execution_count": 76,
   "metadata": {},
   "outputs": [
    {
     "data": {
      "text/plain": [
       "' Billboard Baby Dua Lipa los hace bailar cuando suena Todo el mundo buscando una pista de baile a la que ir corriendo  Si tú quieres escaparte conmigo conozco una galaxia Y puedo llevarte de paseo De paseo Tuve una premonición en la que caíamos en el ritmo Donde la música no para de por vida Purpurina en el cielo purpurina en mis ojos Brillando justo como me gusta Si sientes que necesitan un poco de compañía Me conociste en el momento pеrfecto  Me quierеs te quiero cariño Mi tesoro estoy levitando La Vía Láctea estamos renegando Sí sí sí sí sí  Te tengo luz de luna eres mi luz de estrellas Te necesito toda la noche vamos baila conmigo Te tengo luz de luna eres mi luz de estrellas Te necesito toda la noche vamos baila conmigo  Soy uno de los más grandes no hay debate sobre eso Vamos Sigo levitando estoy fuertemente medicado Es irónico que yo les di amor y acabaron odiándome Vamos Ella me dijo que me amaba y que había estado esperando He estado luchando fuerte por tu amor y se me está acabado la paciencia Necesitaba alguien al que abrazar incluso lo devolví a lo más básico ¿Ves lo que me haces estar haciendo aquí fuera Sí Puede que me tire pero nadie puede parar el movimiento Uh uh vamos Pie izquierdo pie derecho levitando Vamos Estrellas pop Vamos Dua Lipa y DaBaby Tuve que atarme los zapatos por todas las bendiciones que estaba persiguiendo Vamos Si alguna vez me resbalo caeré en una situación mejor Así que ponte al día ve y hazlo mejor Sal y consigue dinero Sí sí Ellos siempre me dejan cuando te caes pero ustedes corren juntos Hey El peso del mundo sobre mis hombros mantengo mi cabeza alta Ahora cariño levántate porque chica tú  Me quieres Hey te quiero cariño Hey Mi tesoro estoy levitando La Vía Láctea estamos renegando Sí sí sí sí sí  Te tengo luz de luna eres mi luz de estrellas Te necesito toda la noche vamos baila conmigo Estoy levitando Te tengo luz de luna eres mi luz de estrellas Eres luz de luna Te necesito toda la noche vamos baila conmigo Estoy levitando  Puedes volar conmigo esta noche Puedes volar conmigo esta noche Cariño déjame llevarte a dar un paseo Sí sí sí sí sí Estoy levitando Woo Puedes volar conmigo esta noche Puedes volar conmigo esta noche Cariño déjame llevarte a dar un paseo Sí sí sí sí sí Woo  Mi amor es como un cohete míralo despegar Y me siento muy eléctrica mi culo baila E incluso si quisiera no podría parar Sí sí sí sí sí Mi amor es como un cohete míralo despegar Y me siento muy eléctrica mi culo baila E incluso si quisiera no podría parar Sí sí sí sí sí  Me quieres te quiero cariño Mi tesoro estoy levitando La Vía Láctea estamos renegando  Te tengo Sí luz de luna eres mi luz de estrellas Te necesito toda la noche Toda la noche vamos baila conmigo Vamos Estoy levitando Woo  Puedes volar conmigo esta noche esta noche Puedes volar conmigo esta noche Cariño déjame llevarte a dar un paseo Sí sí sí sí sí llevarte a dar un paseo Estoy levitando Woo Puedes volar conmigo esta noche esta noche Puedes volar conmigo esta noche Cariño déjame llevarte a dar un paseo Sí sí sí sí sí llevarte a dar un paseo  Te tengo luz de luna eres mi luz de estrellas Te necesito toda la noche vamos baila conmigo Estoy levitando'"
      ]
     },
     "execution_count": 76,
     "metadata": {},
     "output_type": "execute_result"
    }
   ],
   "source": [
    "# Replace '\\u205f', '  ', '\\n', '-' with spaces and remove '?', ',', '(', ')', \"'\", '’'\n",
    "levitating_lyrics = levitating_lyrics.replace('\\u205f', ' ').replace('  ', ' ').replace('  ', ' ')\n",
    "levitating_lyrics = levitating_lyrics.replace('\\n', ' ').replace('-', ' ')\n",
    "levitating_lyrics = levitating_lyrics.replace('?', '').replace(',', '')\n",
    "levitating_lyrics = levitating_lyrics.replace('(', '').replace(')', '')\n",
    "levitating_lyrics = levitating_lyrics.replace(\"'\", '').replace('’', '')\n",
    "# Remove text enclosed in brackets \n",
    "levitating_lyrics = re.sub('\\[(.*?)\\]', '', levitating_lyrics)\n",
    "levitating_lyrics"
   ]
  },
  {
   "cell_type": "code",
   "execution_count": 81,
   "metadata": {},
   "outputs": [
    {
     "data": {
      "text/plain": [
       "198"
      ]
     },
     "execution_count": 81,
     "metadata": {},
     "output_type": "execute_result"
    }
   ],
   "source": [
    "unique_words = set(levitating_lyrics.lower().strip().split(' '))\n",
    "len(unique_words)"
   ]
  },
  {
   "cell_type": "code",
   "execution_count": 108,
   "metadata": {},
   "outputs": [
    {
     "name": "stdout",
     "output_type": "stream",
     "text": [
      "Searching for \"To You\" by Andy Shauf...\n",
      "Done.\n",
      "Searching for \"Monster\" by Shawn Mendes...\n",
      "Done.\n",
      "Searching for \"positions\" by Ariana Grande...\n",
      "Done.\n",
      "Searching for \"Therefore I Am\" by Billie Eilish...\n",
      "Done.\n",
      "Searching for \"Levitating (feat. DaBaby)\" by Dua Lipa...\n",
      "Done.\n"
     ]
    }
   ],
   "source": [
    "# Get lyrics for a practice DataFrame\n",
    "first = genius.search_song('To You', 'Andy Shauf').lyrics\n",
    "second = genius.search_song('Monster', 'Shawn Mendes').lyrics\n",
    "third = genius.search_song('positions', 'Ariana Grande').lyrics\n",
    "fourth = genius.search_song('Therefore I Am', 'Billie Eilish').lyrics\n",
    "fifth = genius.search_song('Levitating (feat. DaBaby)', 'Dua Lipa').lyrics"
   ]
  },
  {
   "cell_type": "code",
   "execution_count": 112,
   "metadata": {},
   "outputs": [
    {
     "data": {
      "text/html": [
       "<div>\n",
       "<style scoped>\n",
       "    .dataframe tbody tr th:only-of-type {\n",
       "        vertical-align: middle;\n",
       "    }\n",
       "\n",
       "    .dataframe tbody tr th {\n",
       "        vertical-align: top;\n",
       "    }\n",
       "\n",
       "    .dataframe thead th {\n",
       "        text-align: right;\n",
       "    }\n",
       "</style>\n",
       "<table border=\"1\" class=\"dataframe\">\n",
       "  <thead>\n",
       "    <tr style=\"text-align: right;\">\n",
       "      <th></th>\n",
       "      <th>lyrics</th>\n",
       "    </tr>\n",
       "  </thead>\n",
       "  <tbody>\n",
       "    <tr>\n",
       "      <th>0</th>\n",
       "      <td>Jeremy can we talk a minute?\\nI've got some th...</td>\n",
       "    </tr>\n",
       "    <tr>\n",
       "      <th>1</th>\n",
       "      <td>[Verse 1: Shawn Mendes]\\nYou put me on a pedes...</td>\n",
       "    </tr>\n",
       "    <tr>\n",
       "      <th>2</th>\n",
       "      <td>[Verse 1]\\nHeaven sent you to me\\nI'm just hop...</td>\n",
       "    </tr>\n",
       "    <tr>\n",
       "      <th>3</th>\n",
       "      <td>[Chorus]\\nI'm not your friend\\nOr anything, da...</td>\n",
       "    </tr>\n",
       "    <tr>\n",
       "      <th>4</th>\n",
       "      <td>[Intro]\\nBillboard Baby, Dua Lipa los hace bai...</td>\n",
       "    </tr>\n",
       "  </tbody>\n",
       "</table>\n",
       "</div>"
      ],
      "text/plain": [
       "                                              lyrics\n",
       "0  Jeremy can we talk a minute?\\nI've got some th...\n",
       "1  [Verse 1: Shawn Mendes]\\nYou put me on a pedes...\n",
       "2  [Verse 1]\\nHeaven sent you to me\\nI'm just hop...\n",
       "3  [Chorus]\\nI'm not your friend\\nOr anything, da...\n",
       "4  [Intro]\\nBillboard Baby, Dua Lipa los hace bai..."
      ]
     },
     "execution_count": 112,
     "metadata": {},
     "output_type": "execute_result"
    }
   ],
   "source": [
    "# Create a practice DataFrame\n",
    "practice_df = pd.DataFrame.from_dict({'lyrics': [first, second, third, fourth, fifth]})\n",
    "practice_df"
   ]
  },
  {
   "cell_type": "code",
   "execution_count": 113,
   "metadata": {},
   "outputs": [
    {
     "data": {
      "text/html": [
       "<div>\n",
       "<style scoped>\n",
       "    .dataframe tbody tr th:only-of-type {\n",
       "        vertical-align: middle;\n",
       "    }\n",
       "\n",
       "    .dataframe tbody tr th {\n",
       "        vertical-align: top;\n",
       "    }\n",
       "\n",
       "    .dataframe thead th {\n",
       "        text-align: right;\n",
       "    }\n",
       "</style>\n",
       "<table border=\"1\" class=\"dataframe\">\n",
       "  <thead>\n",
       "    <tr style=\"text-align: right;\">\n",
       "      <th></th>\n",
       "      <th>lyrics</th>\n",
       "    </tr>\n",
       "  </thead>\n",
       "  <tbody>\n",
       "    <tr>\n",
       "      <th>0</th>\n",
       "      <td>Jeremy can we talk a minute Ive got some thing...</td>\n",
       "    </tr>\n",
       "    <tr>\n",
       "      <th>1</th>\n",
       "      <td>You put me on a pedestal and tell me Im the b...</td>\n",
       "    </tr>\n",
       "    <tr>\n",
       "      <th>2</th>\n",
       "      <td>Heaven sent you to me Im just hopin’ I dont r...</td>\n",
       "    </tr>\n",
       "    <tr>\n",
       "      <th>3</th>\n",
       "      <td>Im not your friend Or anything, damn You thin...</td>\n",
       "    </tr>\n",
       "    <tr>\n",
       "      <th>4</th>\n",
       "      <td>Billboard Baby, Dua Lipa los hace bailar cuan...</td>\n",
       "    </tr>\n",
       "  </tbody>\n",
       "</table>\n",
       "</div>"
      ],
      "text/plain": [
       "                                              lyrics\n",
       "0  Jeremy can we talk a minute Ive got some thing...\n",
       "1   You put me on a pedestal and tell me Im the b...\n",
       "2   Heaven sent you to me Im just hopin’ I dont r...\n",
       "3   Im not your friend Or anything, damn You thin...\n",
       "4   Billboard Baby, Dua Lipa los hace bailar cuan..."
      ]
     },
     "execution_count": 113,
     "metadata": {},
     "output_type": "execute_result"
    }
   ],
   "source": [
    "# Replace '\\u205f', '  ', '\\n', '-' with spaces and remove '?', ',', '(', ')', \"'\", '’'\n",
    "practice_df['lyrics'] = practice_df['lyrics'].str.replace('\\u205f', ' ').replace('  ', ' ').replace('  ', ' ')\n",
    "practice_df['lyrics'] = practice_df['lyrics'].str.replace('\\n', ' ').replace('-', ' ')\n",
    "practice_df['lyrics'] = practice_df['lyrics'].str.replace('?', '').replace(',', '')\n",
    "practice_df['lyrics'] = practice_df['lyrics'].str.replace('(', '').replace(')', '')\n",
    "practice_df['lyrics'] = practice_df['lyrics'].str.replace(\"'\", '').replace('’', '')\n",
    "# Remove text enclosed in brackets \n",
    "practice_df['lyrics'] = practice_df['lyrics'].str.replace('\\[(.*?)\\]', '', regex=True)\n",
    "practice_df"
   ]
  },
  {
   "cell_type": "code",
   "execution_count": null,
   "metadata": {},
   "outputs": [],
   "source": []
  }
 ],
 "metadata": {
  "kernelspec": {
   "display_name": "Python 3",
   "language": "python",
   "name": "python3"
  },
  "language_info": {
   "codemirror_mode": {
    "name": "ipython",
    "version": 3
   },
   "file_extension": ".py",
   "mimetype": "text/x-python",
   "name": "python",
   "nbconvert_exporter": "python",
   "pygments_lexer": "ipython3",
   "version": "3.7.3"
  }
 },
 "nbformat": 4,
 "nbformat_minor": 4
}
