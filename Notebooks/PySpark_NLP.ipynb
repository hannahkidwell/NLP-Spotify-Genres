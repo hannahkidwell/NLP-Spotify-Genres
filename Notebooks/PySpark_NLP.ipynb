{
 "cells": [
  {
   "cell_type": "code",
   "execution_count": null,
   "metadata": {
    "scrolled": true
   },
   "outputs": [],
   "source": [
    "#pip install pyspark"
   ]
  },
  {
   "cell_type": "code",
   "execution_count": 1,
   "metadata": {},
   "outputs": [],
   "source": [
    "# Import dependencies\n",
    "import os\n",
    "import findspark\n",
    "import pandas as pd"
   ]
  },
  {
   "cell_type": "code",
   "execution_count": null,
   "metadata": {},
   "outputs": [],
   "source": []
  },
  {
   "cell_type": "code",
   "execution_count": 35,
   "metadata": {},
   "outputs": [],
   "source": [
    "# Encode category column and save df\n",
    "from sklearn.preprocessing import LabelEncoder\n",
    "music_df = pd.read_csv('music_df.csv')\n",
    "le = LabelEncoder()\n",
    "music_df['category'] = le.fit_transform(music_df['category']) \n",
    "# Clean the lyrics column of the DataFrame\n",
    "music_df['lyrics'] = music_df['lyrics'].str.replace('  ', ' ')\n",
    "music_df['lyrics'] = music_df['lyrics'].str.replace('  ', ' ')\n",
    "music_df['lyrics'] = music_df['lyrics'].str.replace('-', ' ')\n",
    "music_df['lyrics'] = music_df['lyrics'].str.replace(',', '')\n",
    "music_df['lyrics'] = music_df['lyrics'].str.replace(')', '')\n",
    "music_df['lyrics'] = music_df['lyrics'].str.replace('’', '')\n",
    "music_df.to_csv('encoded_df.csv', index=False)"
   ]
  },
  {
   "cell_type": "code",
   "execution_count": null,
   "metadata": {},
   "outputs": [],
   "source": []
  },
  {
   "cell_type": "code",
   "execution_count": 36,
   "metadata": {},
   "outputs": [
    {
     "name": "stdout",
     "output_type": "stream",
     "text": [
      "+--------------------+-------------+--------+--------------------+\n",
      "|                song|       artist|category|              lyrics|\n",
      "+--------------------+-------------+--------+--------------------+\n",
      "|Monster (Shawn Me...| Shawn Mendes|      34| You put me on a ...|\n",
      "|           positions|Ariana Grande|      34| Heaven sent you ...|\n",
      "|      Therefore I Am|Billie Eilish|      34| Im not your frie...|\n",
      "|Levitating (feat....|     Dua Lipa|      34| Billboard Baby D...|\n",
      "|              Dakiti|    Bad Bunny|      34| Baby ya yo me en...|\n",
      "|             Errbody|     Lil Baby|      34| Flyer than every...|\n",
      "|             Whoopty|           CJ|      34| Loyalty over roy...|\n",
      "|    Drankin N Smokin|       Future|      34|\" Saggin out the ...|\n",
      "|               On Me|     Lil Baby|      34|\" Whats happenin ...|\n",
      "|            PRACTICE|       DaBaby|      34|\" Okay Boom boom ...|\n",
      "|          Regardless|         RAYE|      34| Oh regard— la la...|\n",
      "|Save My Life (fea...| David Guetta|      34|One last time One...|\n",
      "|        Paul Is Dead|      Scooter|      34| The source is th...|\n",
      "|   No Time For Tears|  Nathan Dawe|      34| Moving on moving...|\n",
      "|Lovefool (feat. P...|    twocolors|      34| Love me love me ...|\n",
      "|acting like that ...|     YUNGBLUD|      34| Whos that knocki...|\n",
      "|               Dirty|     grandson|      34| Is it time to le...|\n",
      "|ESTELLA// (feat. ...|  KennyHoopla|      34| Estella Estella ...|\n",
      "|    Trouble’s Coming|  Royal Blood|      34| I gave my knuckl...|\n",
      "|        Take Me Away|  Ayron Jones|      34| The day my The d...|\n",
      "+--------------------+-------------+--------+--------------------+\n",
      "only showing top 20 rows\n",
      "\n"
     ]
    }
   ],
   "source": [
    "# Read in DataFrame\n",
    "from pyspark import SparkFiles\n",
    "music_df = spark.read.csv('encoded_df.csv', sep=\",\", header=True)\n",
    "# Remove songs without lyrics\n",
    "music_df = music_df.na.drop()\n",
    "music_df.show()"
   ]
  },
  {
   "cell_type": "code",
   "execution_count": 37,
   "metadata": {},
   "outputs": [],
   "source": [
    "# Import functions\n",
    "from pyspark.ml.feature import Tokenizer, StopWordsRemover, HashingTF, IDF, StringIndexer"
   ]
  },
  {
   "cell_type": "code",
   "execution_count": 38,
   "metadata": {},
   "outputs": [
    {
     "name": "stdout",
     "output_type": "stream",
     "text": [
      "+--------------------+-------------+--------+--------------------+--------------------+\n",
      "|                song|       artist|category|              lyrics|               words|\n",
      "+--------------------+-------------+--------+--------------------+--------------------+\n",
      "|Monster (Shawn Me...| Shawn Mendes|      34| You put me on a ...|[, you, put, me, ...|\n",
      "|           positions|Ariana Grande|      34| Heaven sent you ...|[, heaven, sent, ...|\n",
      "|      Therefore I Am|Billie Eilish|      34| Im not your frie...|[, im, not, your,...|\n",
      "|Levitating (feat....|     Dua Lipa|      34| Billboard Baby D...|[, billboard, bab...|\n",
      "|              Dakiti|    Bad Bunny|      34| Baby ya yo me en...|[, baby, ya, yo, ...|\n",
      "|             Errbody|     Lil Baby|      34| Flyer than every...|[, flyer, than, e...|\n",
      "|             Whoopty|           CJ|      34| Loyalty over roy...|[, loyalty, over,...|\n",
      "|    Drankin N Smokin|       Future|      34|\" Saggin out the ...|[\", saggin, out, ...|\n",
      "|               On Me|     Lil Baby|      34|\" Whats happenin ...|[\", whats, happen...|\n",
      "|            PRACTICE|       DaBaby|      34|\" Okay Boom boom ...|[\", okay, boom, b...|\n",
      "|          Regardless|         RAYE|      34| Oh regard— la la...|[, oh, regard—, l...|\n",
      "|Save My Life (fea...| David Guetta|      34|One last time One...|[one, last, time,...|\n",
      "|        Paul Is Dead|      Scooter|      34| The source is th...|[, the, source, i...|\n",
      "|   No Time For Tears|  Nathan Dawe|      34| Moving on moving...|[, moving, on, mo...|\n",
      "|Lovefool (feat. P...|    twocolors|      34| Love me love me ...|[, love, me, love...|\n",
      "|acting like that ...|     YUNGBLUD|      34| Whos that knocki...|[, whos, that, kn...|\n",
      "|               Dirty|     grandson|      34| Is it time to le...|[, is, it, time, ...|\n",
      "|ESTELLA// (feat. ...|  KennyHoopla|      34| Estella Estella ...|[, estella, estel...|\n",
      "|    Trouble’s Coming|  Royal Blood|      34| I gave my knuckl...|[, i, gave, my, k...|\n",
      "|        Take Me Away|  Ayron Jones|      34| The day my The d...|[, the, day, my, ...|\n",
      "+--------------------+-------------+--------+--------------------+--------------------+\n",
      "only showing top 20 rows\n",
      "\n"
     ]
    }
   ],
   "source": [
    "# Tokenize lyrics\n",
    "tokenizer = Tokenizer(inputCol='lyrics', outputCol='words')\n",
    "tokenized_df = tokenizer.transform(music_df)\n",
    "tokenized_df.show()"
   ]
  },
  {
   "cell_type": "code",
   "execution_count": 39,
   "metadata": {},
   "outputs": [
    {
     "name": "stdout",
     "output_type": "stream",
     "text": [
      "+--------------------+-------------+--------+--------------------+--------------------+--------------------+\n",
      "|                song|       artist|category|              lyrics|               words|            filtered|\n",
      "+--------------------+-------------+--------+--------------------+--------------------+--------------------+\n",
      "|Monster (Shawn Me...| Shawn Mendes|      34| You put me on a ...|[, you, put, me, ...|[, put, pedestal,...|\n",
      "|           positions|Ariana Grande|      34| Heaven sent you ...|[, heaven, sent, ...|[, heaven, sent, ...|\n",
      "|      Therefore I Am|Billie Eilish|      34| Im not your frie...|[, im, not, your,...|[, im, friend, an...|\n",
      "|Levitating (feat....|     Dua Lipa|      34| Billboard Baby D...|[, billboard, bab...|[, billboard, bab...|\n",
      "|              Dakiti|    Bad Bunny|      34| Baby ya yo me en...|[, baby, ya, yo, ...|[, baby, ya, yo, ...|\n",
      "|             Errbody|     Lil Baby|      34| Flyer than every...|[, flyer, than, e...|[, flyer, everybo...|\n",
      "|             Whoopty|           CJ|      34| Loyalty over roy...|[, loyalty, over,...|[, loyalty, royal...|\n",
      "|    Drankin N Smokin|       Future|      34|\" Saggin out the ...|[\", saggin, out, ...|[\", saggin, malls...|\n",
      "|               On Me|     Lil Baby|      34|\" Whats happenin ...|[\", whats, happen...|[\", whats, happen...|\n",
      "|            PRACTICE|       DaBaby|      34|\" Okay Boom boom ...|[\", okay, boom, b...|[\", okay, boom, b...|\n",
      "|          Regardless|         RAYE|      34| Oh regard— la la...|[, oh, regard—, l...|[, oh, regard—, l...|\n",
      "|Save My Life (fea...| David Guetta|      34|One last time One...|[one, last, time,...|[one, last, time,...|\n",
      "|        Paul Is Dead|      Scooter|      34| The source is th...|[, the, source, i...|[, source, power,...|\n",
      "|   No Time For Tears|  Nathan Dawe|      34| Moving on moving...|[, moving, on, mo...|[, moving, moving...|\n",
      "|Lovefool (feat. P...|    twocolors|      34| Love me love me ...|[, love, me, love...|[, love, love, sa...|\n",
      "|acting like that ...|     YUNGBLUD|      34| Whos that knocki...|[, whos, that, kn...|[, whos, knockin,...|\n",
      "|               Dirty|     grandson|      34| Is it time to le...|[, is, it, time, ...|[, time, lead, ti...|\n",
      "|ESTELLA// (feat. ...|  KennyHoopla|      34| Estella Estella ...|[, estella, estel...|[, estella, estel...|\n",
      "|    Trouble’s Coming|  Royal Blood|      34| I gave my knuckl...|[, i, gave, my, k...|[, gave, knuckles...|\n",
      "|        Take Me Away|  Ayron Jones|      34| The day my The d...|[, the, day, my, ...|[, day, day, fuck...|\n",
      "+--------------------+-------------+--------+--------------------+--------------------+--------------------+\n",
      "only showing top 20 rows\n",
      "\n"
     ]
    }
   ],
   "source": [
    "# Remove stop words\n",
    "remover = StopWordsRemover(inputCol='words', outputCol='filtered')\n",
    "removed_df = remover.transform(tokenized_df)\n",
    "removed_df.show()"
   ]
  },
  {
   "cell_type": "code",
   "execution_count": 40,
   "metadata": {},
   "outputs": [
    {
     "name": "stdout",
     "output_type": "stream",
     "text": [
      "+--------------------+-------------+--------+--------------------+--------------------+--------------------+--------------------+--------------------+\n",
      "|                song|       artist|category|              lyrics|               words|            filtered|        hashedValues|            features|\n",
      "+--------------------+-------------+--------+--------------------+--------------------+--------------------+--------------------+--------------------+\n",
      "|Monster (Shawn Me...| Shawn Mendes|      34| You put me on a ...|[, you, put, me, ...|[, put, pedestal,...|(262144,[3386,392...|(262144,[3386,392...|\n",
      "|           positions|Ariana Grande|      34| Heaven sent you ...|[, heaven, sent, ...|[, heaven, sent, ...|(262144,[7231,218...|(262144,[7231,218...|\n",
      "|      Therefore I Am|Billie Eilish|      34| Im not your frie...|[, im, not, your,...|[, im, friend, an...|(262144,[18176,22...|(262144,[18176,22...|\n",
      "|Levitating (feat....|     Dua Lipa|      34| Billboard Baby D...|[, billboard, bab...|[, billboard, bab...|(262144,[522,764,...|(262144,[522,764,...|\n",
      "|              Dakiti|    Bad Bunny|      34| Baby ya yo me en...|[, baby, ya, yo, ...|[, baby, ya, yo, ...|(262144,[764,1781...|(262144,[764,1781...|\n",
      "|             Errbody|     Lil Baby|      34| Flyer than every...|[, flyer, than, e...|[, flyer, everybo...|(262144,[1303,139...|(262144,[1303,139...|\n",
      "|             Whoopty|           CJ|      34| Loyalty over roy...|[, loyalty, over,...|[, loyalty, royal...|(262144,[1689,318...|(262144,[1689,318...|\n",
      "|    Drankin N Smokin|       Future|      34|\" Saggin out the ...|[\", saggin, out, ...|[\", saggin, malls...|(262144,[822,1133...|(262144,[822,1133...|\n",
      "|               On Me|     Lil Baby|      34|\" Whats happenin ...|[\", whats, happen...|[\", whats, happen...|(262144,[1468,328...|(262144,[1468,328...|\n",
      "|            PRACTICE|       DaBaby|      34|\" Okay Boom boom ...|[\", okay, boom, b...|[\", okay, boom, b...|(262144,[3091,312...|(262144,[3091,312...|\n",
      "|          Regardless|         RAYE|      34| Oh regard— la la...|[, oh, regard—, l...|[, oh, regard—, l...|(262144,[2437,576...|(262144,[2437,576...|\n",
      "|Save My Life (fea...| David Guetta|      34|One last time One...|[one, last, time,...|[one, last, time,...|(262144,[5381,181...|(262144,[5381,181...|\n",
      "|        Paul Is Dead|      Scooter|      34| The source is th...|[, the, source, i...|[, source, power,...|(262144,[9788,112...|(262144,[9788,112...|\n",
      "|   No Time For Tears|  Nathan Dawe|      34| Moving on moving...|[, moving, on, mo...|[, moving, moving...|(262144,[4360,612...|(262144,[4360,612...|\n",
      "|Lovefool (feat. P...|    twocolors|      34| Love me love me ...|[, love, me, love...|[, love, love, sa...|(262144,[5765,733...|(262144,[5765,733...|\n",
      "|acting like that ...|     YUNGBLUD|      34| Whos that knocki...|[, whos, that, kn...|[, whos, knockin,...|(262144,[2325,361...|(262144,[2325,361...|\n",
      "|               Dirty|     grandson|      34| Is it time to le...|[, is, it, time, ...|[, time, lead, ti...|(262144,[6498,912...|(262144,[6498,912...|\n",
      "|ESTELLA// (feat. ...|  KennyHoopla|      34| Estella Estella ...|[, estella, estel...|[, estella, estel...|(262144,[822,8449...|(262144,[822,8449...|\n",
      "|    Trouble’s Coming|  Royal Blood|      34| I gave my knuckl...|[, i, gave, my, k...|[, gave, knuckles...|(262144,[1446,366...|(262144,[1446,366...|\n",
      "|        Take Me Away|  Ayron Jones|      34| The day my The d...|[, the, day, my, ...|[, day, day, fuck...|(262144,[9129,102...|(262144,[9129,102...|\n",
      "+--------------------+-------------+--------+--------------------+--------------------+--------------------+--------------------+--------------------+\n",
      "only showing top 20 rows\n",
      "\n"
     ]
    }
   ],
   "source": [
    "# TF-IDF\n",
    "hashing = HashingTF(inputCol='filtered', outputCol='hashedValues', numFeatures=pow(2,18))\n",
    "hashed_df = hashing.transform(removed_df)\n",
    "idf = IDF(inputCol='hashedValues', outputCol='features')\n",
    "idfModel = idf.fit(hashed_df)\n",
    "rescaledData = idfModel.transform(hashed_df)\n",
    "#rescaledData.select('words', 'features').show()\n",
    "rescaledData.show()"
   ]
  },
  {
   "cell_type": "code",
   "execution_count": null,
   "metadata": {},
   "outputs": [],
   "source": []
  },
  {
   "cell_type": "code",
   "execution_count": 41,
   "metadata": {},
   "outputs": [],
   "source": [
    "# Save DataFrame to CSV file\n",
    "rescaledData.toPandas().to_csv('../preliminary_dataframes/nlp_df.csv')"
   ]
  },
  {
   "cell_type": "code",
   "execution_count": null,
   "metadata": {},
   "outputs": [],
   "source": []
  }
 ],
 "metadata": {
  "kernelspec": {
   "display_name": "Python 3",
   "language": "python",
   "name": "python3"
  },
  "language_info": {
   "codemirror_mode": {
    "name": "ipython",
    "version": 3
   },
   "file_extension": ".py",
   "mimetype": "text/x-python",
   "name": "python",
   "nbconvert_exporter": "python",
   "pygments_lexer": "ipython3",
   "version": "3.7.3"
  }
 },
 "nbformat": 4,
 "nbformat_minor": 4
}
