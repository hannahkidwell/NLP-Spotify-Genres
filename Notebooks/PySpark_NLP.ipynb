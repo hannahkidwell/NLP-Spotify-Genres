{
 "cells": [
  {
   "cell_type": "code",
   "execution_count": null,
   "metadata": {
    "scrolled": true
   },
   "outputs": [],
   "source": [
    "#pip install pyspark"
   ]
  },
  {
   "cell_type": "code",
   "execution_count": 1,
   "metadata": {},
   "outputs": [],
   "source": [
    "# Import dependencies\n",
    "from sklearn.preprocessing import LabelEncoder\n",
    "from pyspark.sql import SparkSession\n",
    "from pyspark import SparkFiles\n",
    "import pandas as pd\n",
    "import findspark"
   ]
  },
  {
   "cell_type": "code",
   "execution_count": 2,
   "metadata": {},
   "outputs": [
    {
     "data": {
      "text/html": [
       "<div>\n",
       "<style scoped>\n",
       "    .dataframe tbody tr th:only-of-type {\n",
       "        vertical-align: middle;\n",
       "    }\n",
       "\n",
       "    .dataframe tbody tr th {\n",
       "        vertical-align: top;\n",
       "    }\n",
       "\n",
       "    .dataframe thead th {\n",
       "        text-align: right;\n",
       "    }\n",
       "</style>\n",
       "<table border=\"1\" class=\"dataframe\">\n",
       "  <thead>\n",
       "    <tr style=\"text-align: right;\">\n",
       "      <th></th>\n",
       "      <th>song</th>\n",
       "      <th>artist</th>\n",
       "      <th>artist_id</th>\n",
       "      <th>category</th>\n",
       "      <th>category_id</th>\n",
       "      <th>genres</th>\n",
       "      <th>filterd_genres</th>\n",
       "      <th>lyrics</th>\n",
       "    </tr>\n",
       "  </thead>\n",
       "  <tbody>\n",
       "    <tr>\n",
       "      <th>0</th>\n",
       "      <td>positions</td>\n",
       "      <td>Ariana Grande</td>\n",
       "      <td>66CXWjxzNUsdJxJ2JdwvnR</td>\n",
       "      <td>toplists</td>\n",
       "      <td>35</td>\n",
       "      <td>['dance', 'pop', 'post-teen']</td>\n",
       "      <td>['dance', 'pop']</td>\n",
       "      <td>Heaven sent you to me Im just hopin I dont re...</td>\n",
       "    </tr>\n",
       "    <tr>\n",
       "      <th>1</th>\n",
       "      <td>Therefore I Am</td>\n",
       "      <td>Billie Eilish</td>\n",
       "      <td>6qqNVTkY8uBg9cP3Jd7DAH</td>\n",
       "      <td>toplists</td>\n",
       "      <td>35</td>\n",
       "      <td>['pop', 'electropop']</td>\n",
       "      <td>['pop']</td>\n",
       "      <td>Im not your friend Or anything damn You think...</td>\n",
       "    </tr>\n",
       "    <tr>\n",
       "      <th>2</th>\n",
       "      <td>Monster (Shawn Mendes &amp; Justin Bieber)</td>\n",
       "      <td>Shawn Mendes</td>\n",
       "      <td>7n2wHs1TKAczGzO7Dd2rGr</td>\n",
       "      <td>toplists</td>\n",
       "      <td>35</td>\n",
       "      <td>['dance', 'viral', 'pop', 'post-teen', 'canadi...</td>\n",
       "      <td>['dance', 'viral', 'pop', 'canadian']</td>\n",
       "      <td>You put me on a pedestal and tell me Im the b...</td>\n",
       "    </tr>\n",
       "    <tr>\n",
       "      <th>3</th>\n",
       "      <td>HOLIDAY</td>\n",
       "      <td>Lil Nas X</td>\n",
       "      <td>7jVv8c5Fj3E9VhNjxT4snq</td>\n",
       "      <td>toplists</td>\n",
       "      <td>35</td>\n",
       "      <td>['queer', 'lgbtq+', 'pop', 'country']</td>\n",
       "      <td>['pop', 'country']</td>\n",
       "      <td>T T Tay Keith Took it to ten Hey   Ayy its a ...</td>\n",
       "    </tr>\n",
       "    <tr>\n",
       "      <th>4</th>\n",
       "      <td>On Me</td>\n",
       "      <td>Lil Baby</td>\n",
       "      <td>5f7VJjfbwm532GiveGC0ZK</td>\n",
       "      <td>toplists</td>\n",
       "      <td>35</td>\n",
       "      <td>['rap', 'atl']</td>\n",
       "      <td>['rap', 'atl']</td>\n",
       "      <td>Whats happenin Chi Chi   Fill the bando up wi...</td>\n",
       "    </tr>\n",
       "  </tbody>\n",
       "</table>\n",
       "</div>"
      ],
      "text/plain": [
       "                                     song         artist  \\\n",
       "0                               positions  Ariana Grande   \n",
       "1                          Therefore I Am  Billie Eilish   \n",
       "2  Monster (Shawn Mendes & Justin Bieber)   Shawn Mendes   \n",
       "3                                 HOLIDAY      Lil Nas X   \n",
       "4                                   On Me       Lil Baby   \n",
       "\n",
       "                artist_id  category  category_id  \\\n",
       "0  66CXWjxzNUsdJxJ2JdwvnR  toplists           35   \n",
       "1  6qqNVTkY8uBg9cP3Jd7DAH  toplists           35   \n",
       "2  7n2wHs1TKAczGzO7Dd2rGr  toplists           35   \n",
       "3  7jVv8c5Fj3E9VhNjxT4snq  toplists           35   \n",
       "4  5f7VJjfbwm532GiveGC0ZK  toplists           35   \n",
       "\n",
       "                                              genres  \\\n",
       "0                      ['dance', 'pop', 'post-teen']   \n",
       "1                              ['pop', 'electropop']   \n",
       "2  ['dance', 'viral', 'pop', 'post-teen', 'canadi...   \n",
       "3              ['queer', 'lgbtq+', 'pop', 'country']   \n",
       "4                                     ['rap', 'atl']   \n",
       "\n",
       "                          filterd_genres  \\\n",
       "0                       ['dance', 'pop']   \n",
       "1                                ['pop']   \n",
       "2  ['dance', 'viral', 'pop', 'canadian']   \n",
       "3                     ['pop', 'country']   \n",
       "4                         ['rap', 'atl']   \n",
       "\n",
       "                                              lyrics  \n",
       "0   Heaven sent you to me Im just hopin I dont re...  \n",
       "1   Im not your friend Or anything damn You think...  \n",
       "2   You put me on a pedestal and tell me Im the b...  \n",
       "3   T T Tay Keith Took it to ten Hey   Ayy its a ...  \n",
       "4   Whats happenin Chi Chi   Fill the bando up wi...  "
      ]
     },
     "execution_count": 2,
     "metadata": {},
     "output_type": "execute_result"
    }
   ],
   "source": [
    "# Add encoded category column\n",
    "song_lyrics_df = pd.read_csv('../preliminary_dataframes/song_lyrics2.csv')\n",
    "le = LabelEncoder()\n",
    "new_column = le.fit_transform(song_lyrics_df['category']) \n",
    "song_lyrics_df.insert(4, 'category_id', new_column)\n",
    "\n",
    "# Remove non_alpha_words column\n",
    "song_lyrics_df = song_lyrics_df.drop('non_alpha_words', axis=1)\n",
    "\n",
    "# Save DataFrame to CSV\n",
    "song_lyrics_df.to_csv('encoded_df.csv', index=False)\n",
    "song_lyrics_df.head()"
   ]
  },
  {
   "cell_type": "code",
   "execution_count": 3,
   "metadata": {},
   "outputs": [
    {
     "ename": "OSError",
     "evalue": "[Errno 62] Too many levels of symbolic links: '/opt/spark/./bin/spark-submit'",
     "output_type": "error",
     "traceback": [
      "\u001b[0;31m---------------------------------------------------------------------------\u001b[0m",
      "\u001b[0;31mOSError\u001b[0m                                   Traceback (most recent call last)",
      "\u001b[0;32m<ipython-input-3-1926bb3be07b>\u001b[0m in \u001b[0;36m<module>\u001b[0;34m\u001b[0m\n\u001b[1;32m      1\u001b[0m \u001b[0;31m# Start Spark session\u001b[0m\u001b[0;34m\u001b[0m\u001b[0;34m\u001b[0m\u001b[0;34m\u001b[0m\u001b[0m\n\u001b[0;32m----> 2\u001b[0;31m \u001b[0mspark\u001b[0m \u001b[0;34m=\u001b[0m \u001b[0mSparkSession\u001b[0m\u001b[0;34m.\u001b[0m\u001b[0mbuilder\u001b[0m\u001b[0;34m.\u001b[0m\u001b[0mappName\u001b[0m\u001b[0;34m(\u001b[0m\u001b[0;34m'lyrics_NLP'\u001b[0m\u001b[0;34m)\u001b[0m\u001b[0;34m.\u001b[0m\u001b[0mgetOrCreate\u001b[0m\u001b[0;34m(\u001b[0m\u001b[0;34m)\u001b[0m\u001b[0;34m\u001b[0m\u001b[0;34m\u001b[0m\u001b[0m\n\u001b[0m",
      "\u001b[0;32m//anaconda3/lib/python3.7/site-packages/pyspark/sql/session.py\u001b[0m in \u001b[0;36mgetOrCreate\u001b[0;34m(self)\u001b[0m\n\u001b[1;32m    184\u001b[0m                             \u001b[0msparkConf\u001b[0m\u001b[0;34m.\u001b[0m\u001b[0mset\u001b[0m\u001b[0;34m(\u001b[0m\u001b[0mkey\u001b[0m\u001b[0;34m,\u001b[0m \u001b[0mvalue\u001b[0m\u001b[0;34m)\u001b[0m\u001b[0;34m\u001b[0m\u001b[0;34m\u001b[0m\u001b[0m\n\u001b[1;32m    185\u001b[0m                         \u001b[0;31m# This SparkContext may be an existing one.\u001b[0m\u001b[0;34m\u001b[0m\u001b[0;34m\u001b[0m\u001b[0;34m\u001b[0m\u001b[0m\n\u001b[0;32m--> 186\u001b[0;31m                         \u001b[0msc\u001b[0m \u001b[0;34m=\u001b[0m \u001b[0mSparkContext\u001b[0m\u001b[0;34m.\u001b[0m\u001b[0mgetOrCreate\u001b[0m\u001b[0;34m(\u001b[0m\u001b[0msparkConf\u001b[0m\u001b[0;34m)\u001b[0m\u001b[0;34m\u001b[0m\u001b[0;34m\u001b[0m\u001b[0m\n\u001b[0m\u001b[1;32m    187\u001b[0m                     \u001b[0;31m# Do not update `SparkConf` for existing `SparkContext`, as it's shared\u001b[0m\u001b[0;34m\u001b[0m\u001b[0;34m\u001b[0m\u001b[0;34m\u001b[0m\u001b[0m\n\u001b[1;32m    188\u001b[0m                     \u001b[0;31m# by all sessions.\u001b[0m\u001b[0;34m\u001b[0m\u001b[0;34m\u001b[0m\u001b[0;34m\u001b[0m\u001b[0m\n",
      "\u001b[0;32m//anaconda3/lib/python3.7/site-packages/pyspark/context.py\u001b[0m in \u001b[0;36mgetOrCreate\u001b[0;34m(cls, conf)\u001b[0m\n\u001b[1;32m    374\u001b[0m         \u001b[0;32mwith\u001b[0m \u001b[0mSparkContext\u001b[0m\u001b[0;34m.\u001b[0m\u001b[0m_lock\u001b[0m\u001b[0;34m:\u001b[0m\u001b[0;34m\u001b[0m\u001b[0;34m\u001b[0m\u001b[0m\n\u001b[1;32m    375\u001b[0m             \u001b[0;32mif\u001b[0m \u001b[0mSparkContext\u001b[0m\u001b[0;34m.\u001b[0m\u001b[0m_active_spark_context\u001b[0m \u001b[0;32mis\u001b[0m \u001b[0;32mNone\u001b[0m\u001b[0;34m:\u001b[0m\u001b[0;34m\u001b[0m\u001b[0;34m\u001b[0m\u001b[0m\n\u001b[0;32m--> 376\u001b[0;31m                 \u001b[0mSparkContext\u001b[0m\u001b[0;34m(\u001b[0m\u001b[0mconf\u001b[0m\u001b[0;34m=\u001b[0m\u001b[0mconf\u001b[0m \u001b[0;32mor\u001b[0m \u001b[0mSparkConf\u001b[0m\u001b[0;34m(\u001b[0m\u001b[0;34m)\u001b[0m\u001b[0;34m)\u001b[0m\u001b[0;34m\u001b[0m\u001b[0;34m\u001b[0m\u001b[0m\n\u001b[0m\u001b[1;32m    377\u001b[0m             \u001b[0;32mreturn\u001b[0m \u001b[0mSparkContext\u001b[0m\u001b[0;34m.\u001b[0m\u001b[0m_active_spark_context\u001b[0m\u001b[0;34m\u001b[0m\u001b[0;34m\u001b[0m\u001b[0m\n\u001b[1;32m    378\u001b[0m \u001b[0;34m\u001b[0m\u001b[0m\n",
      "\u001b[0;32m//anaconda3/lib/python3.7/site-packages/pyspark/context.py\u001b[0m in \u001b[0;36m__init__\u001b[0;34m(self, master, appName, sparkHome, pyFiles, environment, batchSize, serializer, conf, gateway, jsc, profiler_cls)\u001b[0m\n\u001b[1;32m    131\u001b[0m                 \" is not allowed as it is a security risk.\")\n\u001b[1;32m    132\u001b[0m \u001b[0;34m\u001b[0m\u001b[0m\n\u001b[0;32m--> 133\u001b[0;31m         \u001b[0mSparkContext\u001b[0m\u001b[0;34m.\u001b[0m\u001b[0m_ensure_initialized\u001b[0m\u001b[0;34m(\u001b[0m\u001b[0mself\u001b[0m\u001b[0;34m,\u001b[0m \u001b[0mgateway\u001b[0m\u001b[0;34m=\u001b[0m\u001b[0mgateway\u001b[0m\u001b[0;34m,\u001b[0m \u001b[0mconf\u001b[0m\u001b[0;34m=\u001b[0m\u001b[0mconf\u001b[0m\u001b[0;34m)\u001b[0m\u001b[0;34m\u001b[0m\u001b[0;34m\u001b[0m\u001b[0m\n\u001b[0m\u001b[1;32m    134\u001b[0m         \u001b[0;32mtry\u001b[0m\u001b[0;34m:\u001b[0m\u001b[0;34m\u001b[0m\u001b[0;34m\u001b[0m\u001b[0m\n\u001b[1;32m    135\u001b[0m             self._do_init(master, appName, sparkHome, pyFiles, environment, batchSize, serializer,\n",
      "\u001b[0;32m//anaconda3/lib/python3.7/site-packages/pyspark/context.py\u001b[0m in \u001b[0;36m_ensure_initialized\u001b[0;34m(cls, instance, gateway, conf)\u001b[0m\n\u001b[1;32m    323\u001b[0m         \u001b[0;32mwith\u001b[0m \u001b[0mSparkContext\u001b[0m\u001b[0;34m.\u001b[0m\u001b[0m_lock\u001b[0m\u001b[0;34m:\u001b[0m\u001b[0;34m\u001b[0m\u001b[0;34m\u001b[0m\u001b[0m\n\u001b[1;32m    324\u001b[0m             \u001b[0;32mif\u001b[0m \u001b[0;32mnot\u001b[0m \u001b[0mSparkContext\u001b[0m\u001b[0;34m.\u001b[0m\u001b[0m_gateway\u001b[0m\u001b[0;34m:\u001b[0m\u001b[0;34m\u001b[0m\u001b[0;34m\u001b[0m\u001b[0m\n\u001b[0;32m--> 325\u001b[0;31m                 \u001b[0mSparkContext\u001b[0m\u001b[0;34m.\u001b[0m\u001b[0m_gateway\u001b[0m \u001b[0;34m=\u001b[0m \u001b[0mgateway\u001b[0m \u001b[0;32mor\u001b[0m \u001b[0mlaunch_gateway\u001b[0m\u001b[0;34m(\u001b[0m\u001b[0mconf\u001b[0m\u001b[0;34m)\u001b[0m\u001b[0;34m\u001b[0m\u001b[0;34m\u001b[0m\u001b[0m\n\u001b[0m\u001b[1;32m    326\u001b[0m                 \u001b[0mSparkContext\u001b[0m\u001b[0;34m.\u001b[0m\u001b[0m_jvm\u001b[0m \u001b[0;34m=\u001b[0m \u001b[0mSparkContext\u001b[0m\u001b[0;34m.\u001b[0m\u001b[0m_gateway\u001b[0m\u001b[0;34m.\u001b[0m\u001b[0mjvm\u001b[0m\u001b[0;34m\u001b[0m\u001b[0;34m\u001b[0m\u001b[0m\n\u001b[1;32m    327\u001b[0m \u001b[0;34m\u001b[0m\u001b[0m\n",
      "\u001b[0;32m//anaconda3/lib/python3.7/site-packages/pyspark/java_gateway.py\u001b[0m in \u001b[0;36mlaunch_gateway\u001b[0;34m(conf, popen_kwargs)\u001b[0m\n\u001b[1;32m     93\u001b[0m                     \u001b[0msignal\u001b[0m\u001b[0;34m.\u001b[0m\u001b[0msignal\u001b[0m\u001b[0;34m(\u001b[0m\u001b[0msignal\u001b[0m\u001b[0;34m.\u001b[0m\u001b[0mSIGINT\u001b[0m\u001b[0;34m,\u001b[0m \u001b[0msignal\u001b[0m\u001b[0;34m.\u001b[0m\u001b[0mSIG_IGN\u001b[0m\u001b[0;34m)\u001b[0m\u001b[0;34m\u001b[0m\u001b[0;34m\u001b[0m\u001b[0m\n\u001b[1;32m     94\u001b[0m                 \u001b[0mpopen_kwargs\u001b[0m\u001b[0;34m[\u001b[0m\u001b[0;34m'preexec_fn'\u001b[0m\u001b[0;34m]\u001b[0m \u001b[0;34m=\u001b[0m \u001b[0mpreexec_func\u001b[0m\u001b[0;34m\u001b[0m\u001b[0;34m\u001b[0m\u001b[0m\n\u001b[0;32m---> 95\u001b[0;31m                 \u001b[0mproc\u001b[0m \u001b[0;34m=\u001b[0m \u001b[0mPopen\u001b[0m\u001b[0;34m(\u001b[0m\u001b[0mcommand\u001b[0m\u001b[0;34m,\u001b[0m \u001b[0;34m**\u001b[0m\u001b[0mpopen_kwargs\u001b[0m\u001b[0;34m)\u001b[0m\u001b[0;34m\u001b[0m\u001b[0;34m\u001b[0m\u001b[0m\n\u001b[0m\u001b[1;32m     96\u001b[0m             \u001b[0;32melse\u001b[0m\u001b[0;34m:\u001b[0m\u001b[0;34m\u001b[0m\u001b[0;34m\u001b[0m\u001b[0m\n\u001b[1;32m     97\u001b[0m                 \u001b[0;31m# preexec_fn not supported on Windows\u001b[0m\u001b[0;34m\u001b[0m\u001b[0;34m\u001b[0m\u001b[0;34m\u001b[0m\u001b[0m\n",
      "\u001b[0;32m//anaconda3/lib/python3.7/subprocess.py\u001b[0m in \u001b[0;36m__init__\u001b[0;34m(self, args, bufsize, executable, stdin, stdout, stderr, preexec_fn, close_fds, shell, cwd, env, universal_newlines, startupinfo, creationflags, restore_signals, start_new_session, pass_fds, encoding, errors, text)\u001b[0m\n\u001b[1;32m    773\u001b[0m                                 \u001b[0mc2pread\u001b[0m\u001b[0;34m,\u001b[0m \u001b[0mc2pwrite\u001b[0m\u001b[0;34m,\u001b[0m\u001b[0;34m\u001b[0m\u001b[0;34m\u001b[0m\u001b[0m\n\u001b[1;32m    774\u001b[0m                                 \u001b[0merrread\u001b[0m\u001b[0;34m,\u001b[0m \u001b[0merrwrite\u001b[0m\u001b[0;34m,\u001b[0m\u001b[0;34m\u001b[0m\u001b[0;34m\u001b[0m\u001b[0m\n\u001b[0;32m--> 775\u001b[0;31m                                 restore_signals, start_new_session)\n\u001b[0m\u001b[1;32m    776\u001b[0m         \u001b[0;32mexcept\u001b[0m\u001b[0;34m:\u001b[0m\u001b[0;34m\u001b[0m\u001b[0;34m\u001b[0m\u001b[0m\n\u001b[1;32m    777\u001b[0m             \u001b[0;31m# Cleanup if the child failed starting.\u001b[0m\u001b[0;34m\u001b[0m\u001b[0;34m\u001b[0m\u001b[0;34m\u001b[0m\u001b[0m\n",
      "\u001b[0;32m//anaconda3/lib/python3.7/subprocess.py\u001b[0m in \u001b[0;36m_execute_child\u001b[0;34m(self, args, executable, preexec_fn, close_fds, pass_fds, cwd, env, startupinfo, creationflags, shell, p2cread, p2cwrite, c2pread, c2pwrite, errread, errwrite, restore_signals, start_new_session)\u001b[0m\n\u001b[1;32m   1520\u001b[0m                         \u001b[0;32mif\u001b[0m \u001b[0merrno_num\u001b[0m \u001b[0;34m==\u001b[0m \u001b[0merrno\u001b[0m\u001b[0;34m.\u001b[0m\u001b[0mENOENT\u001b[0m\u001b[0;34m:\u001b[0m\u001b[0;34m\u001b[0m\u001b[0;34m\u001b[0m\u001b[0m\n\u001b[1;32m   1521\u001b[0m                             \u001b[0merr_msg\u001b[0m \u001b[0;34m+=\u001b[0m \u001b[0;34m': '\u001b[0m \u001b[0;34m+\u001b[0m \u001b[0mrepr\u001b[0m\u001b[0;34m(\u001b[0m\u001b[0merr_filename\u001b[0m\u001b[0;34m)\u001b[0m\u001b[0;34m\u001b[0m\u001b[0;34m\u001b[0m\u001b[0m\n\u001b[0;32m-> 1522\u001b[0;31m                     \u001b[0;32mraise\u001b[0m \u001b[0mchild_exception_type\u001b[0m\u001b[0;34m(\u001b[0m\u001b[0merrno_num\u001b[0m\u001b[0;34m,\u001b[0m \u001b[0merr_msg\u001b[0m\u001b[0;34m,\u001b[0m \u001b[0merr_filename\u001b[0m\u001b[0;34m)\u001b[0m\u001b[0;34m\u001b[0m\u001b[0;34m\u001b[0m\u001b[0m\n\u001b[0m\u001b[1;32m   1523\u001b[0m                 \u001b[0;32mraise\u001b[0m \u001b[0mchild_exception_type\u001b[0m\u001b[0;34m(\u001b[0m\u001b[0merr_msg\u001b[0m\u001b[0;34m)\u001b[0m\u001b[0;34m\u001b[0m\u001b[0;34m\u001b[0m\u001b[0m\n\u001b[1;32m   1524\u001b[0m \u001b[0;34m\u001b[0m\u001b[0m\n",
      "\u001b[0;31mOSError\u001b[0m: [Errno 62] Too many levels of symbolic links: '/opt/spark/./bin/spark-submit'"
     ]
    }
   ],
   "source": [
    "# Start Spark session\n",
    "spark = SparkSession.builder.appName('lyrics_NLP').getOrCreate()"
   ]
  },
  {
   "cell_type": "code",
   "execution_count": 4,
   "metadata": {},
   "outputs": [
    {
     "ename": "NameError",
     "evalue": "name 'pyspark' is not defined",
     "output_type": "error",
     "traceback": [
      "\u001b[0;31m---------------------------------------------------------------------------\u001b[0m",
      "\u001b[0;31mNameError\u001b[0m                                 Traceback (most recent call last)",
      "\u001b[0;32m<ipython-input-4-ea66dc1c82e5>\u001b[0m in \u001b[0;36m<module>\u001b[0;34m\u001b[0m\n\u001b[1;32m      1\u001b[0m \u001b[0;31m# Read in DataFrame\u001b[0m\u001b[0;34m\u001b[0m\u001b[0;34m\u001b[0m\u001b[0;34m\u001b[0m\u001b[0m\n\u001b[0;32m----> 2\u001b[0;31m \u001b[0mmusic_df\u001b[0m \u001b[0;34m=\u001b[0m \u001b[0mpyspark\u001b[0m\u001b[0;34m.\u001b[0m\u001b[0mread\u001b[0m\u001b[0;34m.\u001b[0m\u001b[0mcsv\u001b[0m\u001b[0;34m(\u001b[0m\u001b[0;34m'encoded_df.csv'\u001b[0m\u001b[0;34m,\u001b[0m \u001b[0msep\u001b[0m\u001b[0;34m=\u001b[0m\u001b[0;34m\",\"\u001b[0m\u001b[0;34m,\u001b[0m \u001b[0mheader\u001b[0m\u001b[0;34m=\u001b[0m\u001b[0;32mTrue\u001b[0m\u001b[0;34m)\u001b[0m\u001b[0;34m\u001b[0m\u001b[0;34m\u001b[0m\u001b[0m\n\u001b[0m\u001b[1;32m      3\u001b[0m \u001b[0;34m\u001b[0m\u001b[0m\n\u001b[1;32m      4\u001b[0m \u001b[0;31m# Remove songs without lyrics\u001b[0m\u001b[0;34m\u001b[0m\u001b[0;34m\u001b[0m\u001b[0;34m\u001b[0m\u001b[0m\n\u001b[1;32m      5\u001b[0m \u001b[0;31m#music_df = music_df.na.drop()\u001b[0m\u001b[0;34m\u001b[0m\u001b[0;34m\u001b[0m\u001b[0;34m\u001b[0m\u001b[0m\n",
      "\u001b[0;31mNameError\u001b[0m: name 'pyspark' is not defined"
     ]
    }
   ],
   "source": [
    "# Read in DataFrame\n",
    "music_df = spark.read.csv('encoded_df.csv', sep=\",\", header=True)\n",
    "\n",
    "# Remove songs without lyrics\n",
    "#music_df = music_df.na.drop()\n",
    "music_df.shape()"
   ]
  },
  {
   "cell_type": "code",
   "execution_count": 37,
   "metadata": {},
   "outputs": [],
   "source": [
    "# Import functions\n",
    "from pyspark.ml.feature import Tokenizer, StopWordsRemover, HashingTF, IDF, StringIndexer"
   ]
  },
  {
   "cell_type": "code",
   "execution_count": 38,
   "metadata": {},
   "outputs": [
    {
     "name": "stdout",
     "output_type": "stream",
     "text": [
      "+--------------------+-------------+--------+--------------------+--------------------+\n",
      "|                song|       artist|category|              lyrics|               words|\n",
      "+--------------------+-------------+--------+--------------------+--------------------+\n",
      "|Monster (Shawn Me...| Shawn Mendes|      34| You put me on a ...|[, you, put, me, ...|\n",
      "|           positions|Ariana Grande|      34| Heaven sent you ...|[, heaven, sent, ...|\n",
      "|      Therefore I Am|Billie Eilish|      34| Im not your frie...|[, im, not, your,...|\n",
      "|Levitating (feat....|     Dua Lipa|      34| Billboard Baby D...|[, billboard, bab...|\n",
      "|              Dakiti|    Bad Bunny|      34| Baby ya yo me en...|[, baby, ya, yo, ...|\n",
      "|             Errbody|     Lil Baby|      34| Flyer than every...|[, flyer, than, e...|\n",
      "|             Whoopty|           CJ|      34| Loyalty over roy...|[, loyalty, over,...|\n",
      "|    Drankin N Smokin|       Future|      34|\" Saggin out the ...|[\", saggin, out, ...|\n",
      "|               On Me|     Lil Baby|      34|\" Whats happenin ...|[\", whats, happen...|\n",
      "|            PRACTICE|       DaBaby|      34|\" Okay Boom boom ...|[\", okay, boom, b...|\n",
      "|          Regardless|         RAYE|      34| Oh regard— la la...|[, oh, regard—, l...|\n",
      "|Save My Life (fea...| David Guetta|      34|One last time One...|[one, last, time,...|\n",
      "|        Paul Is Dead|      Scooter|      34| The source is th...|[, the, source, i...|\n",
      "|   No Time For Tears|  Nathan Dawe|      34| Moving on moving...|[, moving, on, mo...|\n",
      "|Lovefool (feat. P...|    twocolors|      34| Love me love me ...|[, love, me, love...|\n",
      "|acting like that ...|     YUNGBLUD|      34| Whos that knocki...|[, whos, that, kn...|\n",
      "|               Dirty|     grandson|      34| Is it time to le...|[, is, it, time, ...|\n",
      "|ESTELLA// (feat. ...|  KennyHoopla|      34| Estella Estella ...|[, estella, estel...|\n",
      "|    Trouble’s Coming|  Royal Blood|      34| I gave my knuckl...|[, i, gave, my, k...|\n",
      "|        Take Me Away|  Ayron Jones|      34| The day my The d...|[, the, day, my, ...|\n",
      "+--------------------+-------------+--------+--------------------+--------------------+\n",
      "only showing top 20 rows\n",
      "\n"
     ]
    }
   ],
   "source": [
    "# Tokenize lyrics\n",
    "tokenizer = Tokenizer(inputCol='lyrics', outputCol='words')\n",
    "tokenized_df = tokenizer.transform(music_df)\n",
    "tokenized_df.show()"
   ]
  },
  {
   "cell_type": "code",
   "execution_count": 39,
   "metadata": {},
   "outputs": [
    {
     "name": "stdout",
     "output_type": "stream",
     "text": [
      "+--------------------+-------------+--------+--------------------+--------------------+--------------------+\n",
      "|                song|       artist|category|              lyrics|               words|            filtered|\n",
      "+--------------------+-------------+--------+--------------------+--------------------+--------------------+\n",
      "|Monster (Shawn Me...| Shawn Mendes|      34| You put me on a ...|[, you, put, me, ...|[, put, pedestal,...|\n",
      "|           positions|Ariana Grande|      34| Heaven sent you ...|[, heaven, sent, ...|[, heaven, sent, ...|\n",
      "|      Therefore I Am|Billie Eilish|      34| Im not your frie...|[, im, not, your,...|[, im, friend, an...|\n",
      "|Levitating (feat....|     Dua Lipa|      34| Billboard Baby D...|[, billboard, bab...|[, billboard, bab...|\n",
      "|              Dakiti|    Bad Bunny|      34| Baby ya yo me en...|[, baby, ya, yo, ...|[, baby, ya, yo, ...|\n",
      "|             Errbody|     Lil Baby|      34| Flyer than every...|[, flyer, than, e...|[, flyer, everybo...|\n",
      "|             Whoopty|           CJ|      34| Loyalty over roy...|[, loyalty, over,...|[, loyalty, royal...|\n",
      "|    Drankin N Smokin|       Future|      34|\" Saggin out the ...|[\", saggin, out, ...|[\", saggin, malls...|\n",
      "|               On Me|     Lil Baby|      34|\" Whats happenin ...|[\", whats, happen...|[\", whats, happen...|\n",
      "|            PRACTICE|       DaBaby|      34|\" Okay Boom boom ...|[\", okay, boom, b...|[\", okay, boom, b...|\n",
      "|          Regardless|         RAYE|      34| Oh regard— la la...|[, oh, regard—, l...|[, oh, regard—, l...|\n",
      "|Save My Life (fea...| David Guetta|      34|One last time One...|[one, last, time,...|[one, last, time,...|\n",
      "|        Paul Is Dead|      Scooter|      34| The source is th...|[, the, source, i...|[, source, power,...|\n",
      "|   No Time For Tears|  Nathan Dawe|      34| Moving on moving...|[, moving, on, mo...|[, moving, moving...|\n",
      "|Lovefool (feat. P...|    twocolors|      34| Love me love me ...|[, love, me, love...|[, love, love, sa...|\n",
      "|acting like that ...|     YUNGBLUD|      34| Whos that knocki...|[, whos, that, kn...|[, whos, knockin,...|\n",
      "|               Dirty|     grandson|      34| Is it time to le...|[, is, it, time, ...|[, time, lead, ti...|\n",
      "|ESTELLA// (feat. ...|  KennyHoopla|      34| Estella Estella ...|[, estella, estel...|[, estella, estel...|\n",
      "|    Trouble’s Coming|  Royal Blood|      34| I gave my knuckl...|[, i, gave, my, k...|[, gave, knuckles...|\n",
      "|        Take Me Away|  Ayron Jones|      34| The day my The d...|[, the, day, my, ...|[, day, day, fuck...|\n",
      "+--------------------+-------------+--------+--------------------+--------------------+--------------------+\n",
      "only showing top 20 rows\n",
      "\n"
     ]
    }
   ],
   "source": [
    "# Remove stop words\n",
    "remover = StopWordsRemover(inputCol='words', outputCol='filtered')\n",
    "removed_df = remover.transform(tokenized_df)\n",
    "removed_df.show()"
   ]
  },
  {
   "cell_type": "code",
   "execution_count": 40,
   "metadata": {},
   "outputs": [
    {
     "name": "stdout",
     "output_type": "stream",
     "text": [
      "+--------------------+-------------+--------+--------------------+--------------------+--------------------+--------------------+--------------------+\n",
      "|                song|       artist|category|              lyrics|               words|            filtered|        hashedValues|            features|\n",
      "+--------------------+-------------+--------+--------------------+--------------------+--------------------+--------------------+--------------------+\n",
      "|Monster (Shawn Me...| Shawn Mendes|      34| You put me on a ...|[, you, put, me, ...|[, put, pedestal,...|(262144,[3386,392...|(262144,[3386,392...|\n",
      "|           positions|Ariana Grande|      34| Heaven sent you ...|[, heaven, sent, ...|[, heaven, sent, ...|(262144,[7231,218...|(262144,[7231,218...|\n",
      "|      Therefore I Am|Billie Eilish|      34| Im not your frie...|[, im, not, your,...|[, im, friend, an...|(262144,[18176,22...|(262144,[18176,22...|\n",
      "|Levitating (feat....|     Dua Lipa|      34| Billboard Baby D...|[, billboard, bab...|[, billboard, bab...|(262144,[522,764,...|(262144,[522,764,...|\n",
      "|              Dakiti|    Bad Bunny|      34| Baby ya yo me en...|[, baby, ya, yo, ...|[, baby, ya, yo, ...|(262144,[764,1781...|(262144,[764,1781...|\n",
      "|             Errbody|     Lil Baby|      34| Flyer than every...|[, flyer, than, e...|[, flyer, everybo...|(262144,[1303,139...|(262144,[1303,139...|\n",
      "|             Whoopty|           CJ|      34| Loyalty over roy...|[, loyalty, over,...|[, loyalty, royal...|(262144,[1689,318...|(262144,[1689,318...|\n",
      "|    Drankin N Smokin|       Future|      34|\" Saggin out the ...|[\", saggin, out, ...|[\", saggin, malls...|(262144,[822,1133...|(262144,[822,1133...|\n",
      "|               On Me|     Lil Baby|      34|\" Whats happenin ...|[\", whats, happen...|[\", whats, happen...|(262144,[1468,328...|(262144,[1468,328...|\n",
      "|            PRACTICE|       DaBaby|      34|\" Okay Boom boom ...|[\", okay, boom, b...|[\", okay, boom, b...|(262144,[3091,312...|(262144,[3091,312...|\n",
      "|          Regardless|         RAYE|      34| Oh regard— la la...|[, oh, regard—, l...|[, oh, regard—, l...|(262144,[2437,576...|(262144,[2437,576...|\n",
      "|Save My Life (fea...| David Guetta|      34|One last time One...|[one, last, time,...|[one, last, time,...|(262144,[5381,181...|(262144,[5381,181...|\n",
      "|        Paul Is Dead|      Scooter|      34| The source is th...|[, the, source, i...|[, source, power,...|(262144,[9788,112...|(262144,[9788,112...|\n",
      "|   No Time For Tears|  Nathan Dawe|      34| Moving on moving...|[, moving, on, mo...|[, moving, moving...|(262144,[4360,612...|(262144,[4360,612...|\n",
      "|Lovefool (feat. P...|    twocolors|      34| Love me love me ...|[, love, me, love...|[, love, love, sa...|(262144,[5765,733...|(262144,[5765,733...|\n",
      "|acting like that ...|     YUNGBLUD|      34| Whos that knocki...|[, whos, that, kn...|[, whos, knockin,...|(262144,[2325,361...|(262144,[2325,361...|\n",
      "|               Dirty|     grandson|      34| Is it time to le...|[, is, it, time, ...|[, time, lead, ti...|(262144,[6498,912...|(262144,[6498,912...|\n",
      "|ESTELLA// (feat. ...|  KennyHoopla|      34| Estella Estella ...|[, estella, estel...|[, estella, estel...|(262144,[822,8449...|(262144,[822,8449...|\n",
      "|    Trouble’s Coming|  Royal Blood|      34| I gave my knuckl...|[, i, gave, my, k...|[, gave, knuckles...|(262144,[1446,366...|(262144,[1446,366...|\n",
      "|        Take Me Away|  Ayron Jones|      34| The day my The d...|[, the, day, my, ...|[, day, day, fuck...|(262144,[9129,102...|(262144,[9129,102...|\n",
      "+--------------------+-------------+--------+--------------------+--------------------+--------------------+--------------------+--------------------+\n",
      "only showing top 20 rows\n",
      "\n"
     ]
    }
   ],
   "source": [
    "# TF-IDF\n",
    "hashing = HashingTF(inputCol='filtered', outputCol='hashedValues', numFeatures=pow(2,18))\n",
    "hashed_df = hashing.transform(removed_df)\n",
    "idf = IDF(inputCol='hashedValues', outputCol='features')\n",
    "idfModel = idf.fit(hashed_df)\n",
    "rescaledData = idfModel.transform(hashed_df)\n",
    "#rescaledData.select('words', 'features').show()\n",
    "rescaledData.show()"
   ]
  },
  {
   "cell_type": "code",
   "execution_count": null,
   "metadata": {},
   "outputs": [],
   "source": []
  },
  {
   "cell_type": "code",
   "execution_count": 41,
   "metadata": {},
   "outputs": [],
   "source": [
    "# Save DataFrame to CSV file\n",
    "rescaledData.toPandas().to_csv('../preliminary_dataframes/nlp_df.csv')"
   ]
  },
  {
   "cell_type": "code",
   "execution_count": null,
   "metadata": {},
   "outputs": [],
   "source": []
  }
 ],
 "metadata": {
  "kernelspec": {
   "display_name": "Python 3",
   "language": "python",
   "name": "python3"
  },
  "language_info": {
   "codemirror_mode": {
    "name": "ipython",
    "version": 3
   },
   "file_extension": ".py",
   "mimetype": "text/x-python",
   "name": "python",
   "nbconvert_exporter": "python",
   "pygments_lexer": "ipython3",
   "version": "3.7.3"
  }
 },
 "nbformat": 4,
 "nbformat_minor": 4
}
