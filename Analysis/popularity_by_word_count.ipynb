{
 "cells": [
  {
   "cell_type": "code",
   "execution_count": 1,
   "metadata": {},
   "outputs": [],
   "source": [
    "# Import dependencies\n",
    "import pandas as pd\n",
    "import numpy as np\n",
    "import re\n",
    "import time"
   ]
  },
  {
   "cell_type": "code",
   "execution_count": 2,
   "metadata": {},
   "outputs": [
    {
     "data": {
      "text/html": [
       "<div>\n",
       "<style scoped>\n",
       "    .dataframe tbody tr th:only-of-type {\n",
       "        vertical-align: middle;\n",
       "    }\n",
       "\n",
       "    .dataframe tbody tr th {\n",
       "        vertical-align: top;\n",
       "    }\n",
       "\n",
       "    .dataframe thead th {\n",
       "        text-align: right;\n",
       "    }\n",
       "</style>\n",
       "<table border=\"1\" class=\"dataframe\">\n",
       "  <thead>\n",
       "    <tr style=\"text-align: right;\">\n",
       "      <th></th>\n",
       "      <th>song</th>\n",
       "      <th>song_id</th>\n",
       "      <th>artist</th>\n",
       "      <th>artist_id</th>\n",
       "      <th>category</th>\n",
       "      <th>category_id</th>\n",
       "      <th>popularity</th>\n",
       "      <th>genres</th>\n",
       "      <th>audio_ft_danceability</th>\n",
       "      <th>audio_ft_energy</th>\n",
       "      <th>...</th>\n",
       "      <th>audio_ft_acousticness</th>\n",
       "      <th>audio_ft_instrumentalness</th>\n",
       "      <th>audio_ft_liveness</th>\n",
       "      <th>audio_ft_valence</th>\n",
       "      <th>audio_ft_tempo</th>\n",
       "      <th>audio_ft_duration_ms</th>\n",
       "      <th>audio_ft_time_signature</th>\n",
       "      <th>lyrics</th>\n",
       "      <th>filtered</th>\n",
       "      <th>language</th>\n",
       "    </tr>\n",
       "  </thead>\n",
       "  <tbody>\n",
       "    <tr>\n",
       "      <th>0</th>\n",
       "      <td>willow</td>\n",
       "      <td>0lx2cLdOt3piJbcaXIV74f</td>\n",
       "      <td>Taylor Swift</td>\n",
       "      <td>06HL4z0CvFAxyc27GXpf02</td>\n",
       "      <td>pop</td>\n",
       "      <td>8</td>\n",
       "      <td>93</td>\n",
       "      <td>['dance', 'pop']</td>\n",
       "      <td>0.392</td>\n",
       "      <td>0.574</td>\n",
       "      <td>...</td>\n",
       "      <td>0.8330</td>\n",
       "      <td>0.00179</td>\n",
       "      <td>0.145</td>\n",
       "      <td>0.529</td>\n",
       "      <td>81.112</td>\n",
       "      <td>214707.0</td>\n",
       "      <td>4.0</td>\n",
       "      <td>Im like the water when your ship rolled in th...</td>\n",
       "      <td>['', 'im', 'like', 'water', 'ship', 'rolled', ...</td>\n",
       "      <td>(1, 'en')</td>\n",
       "    </tr>\n",
       "    <tr>\n",
       "      <th>1</th>\n",
       "      <td>Stay Next To Me (with Chelsea Cutler)</td>\n",
       "      <td>6SGG5AxHShqSYiV9fCWpZz</td>\n",
       "      <td>Quinn XCII</td>\n",
       "      <td>3ApUX1o6oSz321MMECyIYd</td>\n",
       "      <td>pop</td>\n",
       "      <td>8</td>\n",
       "      <td>78</td>\n",
       "      <td>['indie', 'pop', 'electropop']</td>\n",
       "      <td>0.581</td>\n",
       "      <td>0.584</td>\n",
       "      <td>...</td>\n",
       "      <td>0.0805</td>\n",
       "      <td>0.00000</td>\n",
       "      <td>0.366</td>\n",
       "      <td>0.756</td>\n",
       "      <td>179.954</td>\n",
       "      <td>206046.0</td>\n",
       "      <td>4.0</td>\n",
       "      <td>Didnt even wanna go out whyd you call me ? Iv...</td>\n",
       "      <td>['', 'didnt', 'even', 'wanna', 'go', 'whyd', '...</td>\n",
       "      <td>(1, 'en')</td>\n",
       "    </tr>\n",
       "    <tr>\n",
       "      <th>2</th>\n",
       "      <td>WITHOUT YOU</td>\n",
       "      <td>27OeeYzk6klgBh83TSvGMA</td>\n",
       "      <td>The Kid LAROI</td>\n",
       "      <td>2tIP7SsRs7vjIcLrU85W8J</td>\n",
       "      <td>pop</td>\n",
       "      <td>8</td>\n",
       "      <td>95</td>\n",
       "      <td>['australian']</td>\n",
       "      <td>0.662</td>\n",
       "      <td>0.413</td>\n",
       "      <td>...</td>\n",
       "      <td>0.2130</td>\n",
       "      <td>0.00000</td>\n",
       "      <td>0.134</td>\n",
       "      <td>0.467</td>\n",
       "      <td>93.005</td>\n",
       "      <td>161385.0</td>\n",
       "      <td>4.0</td>\n",
       "      <td>You cut out a piece of me and now I bleed int...</td>\n",
       "      <td>['', 'cut', 'piece', 'bleed', 'internally', 'l...</td>\n",
       "      <td>(1, 'en')</td>\n",
       "    </tr>\n",
       "  </tbody>\n",
       "</table>\n",
       "<p>3 rows × 24 columns</p>\n",
       "</div>"
      ],
      "text/plain": [
       "                                    song                 song_id  \\\n",
       "0                                 willow  0lx2cLdOt3piJbcaXIV74f   \n",
       "1  Stay Next To Me (with Chelsea Cutler)  6SGG5AxHShqSYiV9fCWpZz   \n",
       "2                            WITHOUT YOU  27OeeYzk6klgBh83TSvGMA   \n",
       "\n",
       "          artist               artist_id category  category_id  popularity  \\\n",
       "0   Taylor Swift  06HL4z0CvFAxyc27GXpf02      pop            8          93   \n",
       "1     Quinn XCII  3ApUX1o6oSz321MMECyIYd      pop            8          78   \n",
       "2  The Kid LAROI  2tIP7SsRs7vjIcLrU85W8J      pop            8          95   \n",
       "\n",
       "                           genres  audio_ft_danceability  audio_ft_energy  \\\n",
       "0                ['dance', 'pop']                  0.392            0.574   \n",
       "1  ['indie', 'pop', 'electropop']                  0.581            0.584   \n",
       "2                  ['australian']                  0.662            0.413   \n",
       "\n",
       "   ...  audio_ft_acousticness  audio_ft_instrumentalness  audio_ft_liveness  \\\n",
       "0  ...                 0.8330                    0.00179              0.145   \n",
       "1  ...                 0.0805                    0.00000              0.366   \n",
       "2  ...                 0.2130                    0.00000              0.134   \n",
       "\n",
       "   audio_ft_valence  audio_ft_tempo  audio_ft_duration_ms  \\\n",
       "0             0.529          81.112              214707.0   \n",
       "1             0.756         179.954              206046.0   \n",
       "2             0.467          93.005              161385.0   \n",
       "\n",
       "   audio_ft_time_signature                                             lyrics  \\\n",
       "0                      4.0   Im like the water when your ship rolled in th...   \n",
       "1                      4.0   Didnt even wanna go out whyd you call me ? Iv...   \n",
       "2                      4.0   You cut out a piece of me and now I bleed int...   \n",
       "\n",
       "                                            filtered   language  \n",
       "0  ['', 'im', 'like', 'water', 'ship', 'rolled', ...  (1, 'en')  \n",
       "1  ['', 'didnt', 'even', 'wanna', 'go', 'whyd', '...  (1, 'en')  \n",
       "2  ['', 'cut', 'piece', 'bleed', 'internally', 'l...  (1, 'en')  \n",
       "\n",
       "[3 rows x 24 columns]"
      ]
     },
     "execution_count": 2,
     "metadata": {},
     "output_type": "execute_result"
    }
   ],
   "source": [
    "# Create DataFrame from CSV file\n",
    "nlp_df = pd.read_csv('../Data/nlp_df.csv')\n",
    "nlp_df = nlp_df.drop(['non_alpha_words'], axis=1)\n",
    "nlp_df.head(3)"
   ]
  },
  {
   "cell_type": "code",
   "execution_count": 3,
   "metadata": {},
   "outputs": [
    {
     "name": "stdout",
     "output_type": "stream",
     "text": [
      "Run time: 1.387387752532959 seconds\n"
     ]
    },
    {
     "data": {
      "text/plain": [
       "36234"
      ]
     },
     "execution_count": 3,
     "metadata": {},
     "output_type": "execute_result"
    }
   ],
   "source": [
    "# Create a list of all words, word counts, unique word counts, and filtered words\n",
    "t0 = time.time()\n",
    "words_list = []\n",
    "word_counts = []\n",
    "unique_word_counts = []\n",
    "filtered_words_list = []\n",
    "for index, row in nlp_df.iterrows():\n",
    "    filtered_words = row['filtered']\n",
    "    filtered_words = filtered_words.replace(',', '').replace(\"'\", '')\n",
    "    filtered_words = filtered_words.replace('[', '').replace(']', '')\n",
    "    filtered_words = filtered_words.replace('#', '').replace('&nbsp', '')\n",
    "    filtered_words = filtered_words.replace('?', '? ').replace(',', '')\n",
    "    filtered_words = filtered_words.replace('/', ' ')\n",
    "    filtered_words = filtered_words.replace('\\\\u200a', '').replace('\\\\u200b', '')\n",
    "    filtered_words = filtered_words.replace('\\\\u2063', '').replace('\\u202f', '')\n",
    "    filtered_words = filtered_words.replace('\\\\u2028', ' ').replace('\\\\u2008', ' ')\n",
    "    while ('\\\\u200e' in filtered_words) or ('\\\\xa0' in filtered_words):\n",
    "        filtered_words = filtered_words.replace('\\\\u200e', '')\n",
    "        filtered_words = filtered_words.replace('\\\\xa0', '')\n",
    "    filtered_words_list.append(filtered_words)\n",
    "    words = filtered_words.strip().split(' ')\n",
    "    word_counts.append(len(words))\n",
    "    unique_words = list(set(words))\n",
    "    unique_word_counts.append(len(unique_words))\n",
    "    words_list.extend(unique_words)\n",
    "word_columns = list(set(words_list))\n",
    "t1 = time.time()\n",
    "print(f'Run time: {t1-t0} seconds')\n",
    "len(word_columns)"
   ]
  },
  {
   "cell_type": "code",
   "execution_count": 4,
   "metadata": {},
   "outputs": [
    {
     "data": {
      "text/html": [
       "<div>\n",
       "<style scoped>\n",
       "    .dataframe tbody tr th:only-of-type {\n",
       "        vertical-align: middle;\n",
       "    }\n",
       "\n",
       "    .dataframe tbody tr th {\n",
       "        vertical-align: top;\n",
       "    }\n",
       "\n",
       "    .dataframe thead th {\n",
       "        text-align: right;\n",
       "    }\n",
       "</style>\n",
       "<table border=\"1\" class=\"dataframe\">\n",
       "  <thead>\n",
       "    <tr style=\"text-align: right;\">\n",
       "      <th></th>\n",
       "      <th>song</th>\n",
       "      <th>song_id</th>\n",
       "      <th>artist</th>\n",
       "      <th>artist_id</th>\n",
       "      <th>category</th>\n",
       "      <th>category_id</th>\n",
       "      <th>popularity</th>\n",
       "      <th>genres</th>\n",
       "      <th>audio_ft_danceability</th>\n",
       "      <th>audio_ft_energy</th>\n",
       "      <th>...</th>\n",
       "      <th>audio_ft_liveness</th>\n",
       "      <th>audio_ft_valence</th>\n",
       "      <th>audio_ft_tempo</th>\n",
       "      <th>audio_ft_duration_ms</th>\n",
       "      <th>audio_ft_time_signature</th>\n",
       "      <th>lyrics</th>\n",
       "      <th>filtered</th>\n",
       "      <th>language</th>\n",
       "      <th>word_count</th>\n",
       "      <th>unique_word_count</th>\n",
       "    </tr>\n",
       "  </thead>\n",
       "  <tbody>\n",
       "    <tr>\n",
       "      <th>0</th>\n",
       "      <td>willow</td>\n",
       "      <td>0lx2cLdOt3piJbcaXIV74f</td>\n",
       "      <td>Taylor Swift</td>\n",
       "      <td>06HL4z0CvFAxyc27GXpf02</td>\n",
       "      <td>pop</td>\n",
       "      <td>8</td>\n",
       "      <td>93</td>\n",
       "      <td>['dance', 'pop']</td>\n",
       "      <td>0.392</td>\n",
       "      <td>0.574</td>\n",
       "      <td>...</td>\n",
       "      <td>0.145</td>\n",
       "      <td>0.529</td>\n",
       "      <td>81.112</td>\n",
       "      <td>214707.0</td>\n",
       "      <td>4.0</td>\n",
       "      <td>Im like the water when your ship rolled in th...</td>\n",
       "      <td>im like water ship rolled night rough surface...</td>\n",
       "      <td>(1, 'en')</td>\n",
       "      <td>227</td>\n",
       "      <td>87</td>\n",
       "    </tr>\n",
       "  </tbody>\n",
       "</table>\n",
       "<p>1 rows × 26 columns</p>\n",
       "</div>"
      ],
      "text/plain": [
       "     song                 song_id        artist               artist_id  \\\n",
       "0  willow  0lx2cLdOt3piJbcaXIV74f  Taylor Swift  06HL4z0CvFAxyc27GXpf02   \n",
       "\n",
       "  category  category_id  popularity            genres  audio_ft_danceability  \\\n",
       "0      pop            8          93  ['dance', 'pop']                  0.392   \n",
       "\n",
       "   audio_ft_energy  ...  audio_ft_liveness  audio_ft_valence  audio_ft_tempo  \\\n",
       "0            0.574  ...              0.145             0.529          81.112   \n",
       "\n",
       "   audio_ft_duration_ms  audio_ft_time_signature  \\\n",
       "0              214707.0                      4.0   \n",
       "\n",
       "                                              lyrics  \\\n",
       "0   Im like the water when your ship rolled in th...   \n",
       "\n",
       "                                            filtered   language  word_count  \\\n",
       "0   im like water ship rolled night rough surface...  (1, 'en')         227   \n",
       "\n",
       "   unique_word_count  \n",
       "0                 87  \n",
       "\n",
       "[1 rows x 26 columns]"
      ]
     },
     "execution_count": 4,
     "metadata": {},
     "output_type": "execute_result"
    }
   ],
   "source": [
    "# Add word_count and unique_word_count columns and replace the filtered column\n",
    "nlp_df['word_count'] = word_counts\n",
    "nlp_df['unique_word_count'] = unique_word_counts\n",
    "nlp_df['filtered'] = filtered_words_list\n",
    "nlp_df.head(1)"
   ]
  },
  {
   "cell_type": "code",
   "execution_count": 5,
   "metadata": {},
   "outputs": [
    {
     "data": {
      "text/plain": [
       "8041"
      ]
     },
     "execution_count": 5,
     "metadata": {},
     "output_type": "execute_result"
    }
   ],
   "source": [
    "# Remove songs with less than 25 unique words\n",
    "nlp_df = nlp_df[nlp_df['unique_word_count']>=25]\n",
    "len(nlp_df)"
   ]
  },
  {
   "cell_type": "markdown",
   "metadata": {},
   "source": [
    "# Examine word counts by genre"
   ]
  },
  {
   "cell_type": "code",
   "execution_count": 7,
   "metadata": {},
   "outputs": [],
   "source": [
    "# Remove the language column\n",
    "nlp_df = nlp_df.drop('language', axis=1)"
   ]
  },
  {
   "cell_type": "code",
   "execution_count": 6,
   "metadata": {
    "scrolled": true
   },
   "outputs": [
    {
     "data": {
      "text/plain": [
       "8031"
      ]
     },
     "execution_count": 6,
     "metadata": {},
     "output_type": "execute_result"
    }
   ],
   "source": [
    "# Drop songs with incorrect lyrics from the DataFrame\n",
    "nlp_df = nlp_df[(nlp_df['unique_word_count']!=3878) & (nlp_df['unique_word_count']!=1153)]\n",
    "nlp_df = nlp_df[(nlp_df['unique_word_count']!=1000) & (nlp_df['unique_word_count']!=880)]\n",
    "nlp_df = nlp_df[(nlp_df['unique_word_count']!=842) & (nlp_df['unique_word_count']!=607)]\n",
    "nlp_df = nlp_df[(nlp_df['unique_word_count']!=569) & (nlp_df['word_count']!=1383)]\n",
    "len(nlp_df)"
   ]
  },
  {
   "cell_type": "code",
   "execution_count": 8,
   "metadata": {},
   "outputs": [
    {
     "data": {
      "text/plain": [
       "count    8031.000000\n",
       "mean       47.177188\n",
       "std        22.731742\n",
       "min         0.000000\n",
       "25%        37.000000\n",
       "50%        51.000000\n",
       "75%        63.000000\n",
       "max        99.000000\n",
       "Name: popularity, dtype: float64"
      ]
     },
     "execution_count": 8,
     "metadata": {},
     "output_type": "execute_result"
    }
   ],
   "source": [
    "nlp_df['popularity'].describe()"
   ]
  },
  {
   "cell_type": "code",
   "execution_count": 9,
   "metadata": {},
   "outputs": [
    {
     "data": {
      "text/plain": [
       "{'first_quartile': count    2067.000000\n",
       " mean      154.472182\n",
       " std        78.391665\n",
       " min        26.000000\n",
       " 25%       102.000000\n",
       " 50%       141.000000\n",
       " 75%       189.000000\n",
       " max       694.000000\n",
       " Name: word_count, dtype: float64,\n",
       " 'second_quartile': count    1949.000000\n",
       " mean      161.593125\n",
       " std        85.961241\n",
       " min        36.000000\n",
       " 25%       105.000000\n",
       " 50%       142.000000\n",
       " 75%       193.000000\n",
       " max       823.000000\n",
       " Name: word_count, dtype: float64,\n",
       " 'third_quartile': count    1870.000000\n",
       " mean      191.383422\n",
       " std       104.526280\n",
       " min        32.000000\n",
       " 25%       125.000000\n",
       " 50%       169.000000\n",
       " 75%       223.000000\n",
       " max       832.000000\n",
       " Name: word_count, dtype: float64,\n",
       " 'fourth_quartile': count    2145.000000\n",
       " mean      205.691375\n",
       " std        97.987791\n",
       " min        33.000000\n",
       " 25%       143.000000\n",
       " 50%       185.000000\n",
       " 75%       239.000000\n",
       " max       909.000000\n",
       " Name: word_count, dtype: float64}"
      ]
     },
     "execution_count": 9,
     "metadata": {},
     "output_type": "execute_result"
    }
   ],
   "source": [
    "# Print the distributions of word counts for each quartile\n",
    "word_distributions = {}\n",
    "quartile1_unique_words = nlp_df[nlp_df['popularity']<=37]['word_count'].describe()\n",
    "word_distributions['first_quartile'] = quartile1_unique_words\n",
    "\n",
    "quartile2_unique_words = nlp_df[(nlp_df['popularity']>37) & (nlp_df['popularity']<=51)]['word_count'].describe()\n",
    "word_distributions['second_quartile'] = quartile2_unique_words\n",
    "\n",
    "quartile3_unique_words = nlp_df[(nlp_df['popularity']>51) & (nlp_df['popularity']<63)]['word_count'].describe()\n",
    "word_distributions['third_quartile'] = quartile3_unique_words\n",
    "\n",
    "quartile4_unique_words = nlp_df[nlp_df['popularity']>=63]['word_count'].describe()\n",
    "word_distributions['fourth_quartile'] = quartile4_unique_words\n",
    "word_distributions"
   ]
  },
  {
   "cell_type": "code",
   "execution_count": 10,
   "metadata": {},
   "outputs": [
    {
     "data": {
      "text/plain": [
       "{'fourth_quartile': 205.6913752913753,\n",
       " 'third_quartile': 191.38342245989304,\n",
       " 'second_quartile': 161.59312467932273,\n",
       " 'first_quartile': 154.47218190614416}"
      ]
     },
     "execution_count": 10,
     "metadata": {},
     "output_type": "execute_result"
    }
   ],
   "source": [
    "# Create a dictionary of mean word distributions\n",
    "categories = list(word_distributions.keys())\n",
    "means = []\n",
    "for category in word_distributions:\n",
    "    means.append(word_distributions[category]['mean'])\n",
    "mean_unique_word_counts = dict(zip(categories, means))\n",
    "mean_unique_word_counts = dict(sorted(mean_unique_word_counts.items(), key=lambda item: item[1], reverse=True))\n",
    "mean_unique_word_counts"
   ]
  },
  {
   "cell_type": "code",
   "execution_count": 11,
   "metadata": {},
   "outputs": [
    {
     "name": "stdout",
     "output_type": "stream",
     "text": [
      "Song with the most words:\n"
     ]
    },
    {
     "data": {
      "text/html": [
       "<div>\n",
       "<style scoped>\n",
       "    .dataframe tbody tr th:only-of-type {\n",
       "        vertical-align: middle;\n",
       "    }\n",
       "\n",
       "    .dataframe tbody tr th {\n",
       "        vertical-align: top;\n",
       "    }\n",
       "\n",
       "    .dataframe thead th {\n",
       "        text-align: right;\n",
       "    }\n",
       "</style>\n",
       "<table border=\"1\" class=\"dataframe\">\n",
       "  <thead>\n",
       "    <tr style=\"text-align: right;\">\n",
       "      <th></th>\n",
       "      <th>song</th>\n",
       "      <th>artist</th>\n",
       "      <th>category</th>\n",
       "      <th>popularity</th>\n",
       "      <th>lyrics</th>\n",
       "      <th>word_count</th>\n",
       "    </tr>\n",
       "  </thead>\n",
       "  <tbody>\n",
       "    <tr>\n",
       "      <th>1351</th>\n",
       "      <td>Rap God</td>\n",
       "      <td>Eminem</td>\n",
       "      <td>hiphop</td>\n",
       "      <td>64</td>\n",
       "      <td>Look I was gonna go easy on you not to hurt y...</td>\n",
       "      <td>909</td>\n",
       "    </tr>\n",
       "  </tbody>\n",
       "</table>\n",
       "</div>"
      ],
      "text/plain": [
       "         song  artist category  popularity  \\\n",
       "1351  Rap God  Eminem   hiphop          64   \n",
       "\n",
       "                                                 lyrics  word_count  \n",
       "1351   Look I was gonna go easy on you not to hurt y...         909  "
      ]
     },
     "metadata": {},
     "output_type": "display_data"
    },
    {
     "name": "stdout",
     "output_type": "stream",
     "text": [
      "Song with the least words:\n"
     ]
    },
    {
     "data": {
      "text/html": [
       "<div>\n",
       "<style scoped>\n",
       "    .dataframe tbody tr th:only-of-type {\n",
       "        vertical-align: middle;\n",
       "    }\n",
       "\n",
       "    .dataframe tbody tr th {\n",
       "        vertical-align: top;\n",
       "    }\n",
       "\n",
       "    .dataframe thead th {\n",
       "        text-align: right;\n",
       "    }\n",
       "</style>\n",
       "<table border=\"1\" class=\"dataframe\">\n",
       "  <thead>\n",
       "    <tr style=\"text-align: right;\">\n",
       "      <th></th>\n",
       "      <th>song</th>\n",
       "      <th>artist</th>\n",
       "      <th>category</th>\n",
       "      <th>popularity</th>\n",
       "      <th>lyrics</th>\n",
       "      <th>word_count</th>\n",
       "    </tr>\n",
       "  </thead>\n",
       "  <tbody>\n",
       "    <tr>\n",
       "      <th>2547</th>\n",
       "      <td>Golf Hill Drive</td>\n",
       "      <td>Boys Life</td>\n",
       "      <td>rock</td>\n",
       "      <td>25</td>\n",
       "      <td>Stuck in this life thats not my own And whoeve...</td>\n",
       "      <td>26</td>\n",
       "    </tr>\n",
       "  </tbody>\n",
       "</table>\n",
       "</div>"
      ],
      "text/plain": [
       "                 song     artist category  popularity  \\\n",
       "2547  Golf Hill Drive  Boys Life     rock          25   \n",
       "\n",
       "                                                 lyrics  word_count  \n",
       "2547  Stuck in this life thats not my own And whoeve...          26  "
      ]
     },
     "metadata": {},
     "output_type": "display_data"
    }
   ],
   "source": [
    "# Find songs with the highest and lowest word counts\n",
    "print('Song with the most words:')\n",
    "display(nlp_df[nlp_df['word_count']==max(nlp_df['word_count'])][['song', 'artist', 'category', 'popularity', 'lyrics', 'word_count']])\n",
    "\n",
    "print('Song with the least words:')\n",
    "display(nlp_df[nlp_df['word_count']==min(nlp_df['word_count'])][['song', 'artist', 'category', 'popularity', 'lyrics', 'word_count']])\n"
   ]
  },
  {
   "cell_type": "code",
   "execution_count": 12,
   "metadata": {},
   "outputs": [
    {
     "data": {
      "text/html": [
       "<div>\n",
       "<style scoped>\n",
       "    .dataframe tbody tr th:only-of-type {\n",
       "        vertical-align: middle;\n",
       "    }\n",
       "\n",
       "    .dataframe tbody tr th {\n",
       "        vertical-align: top;\n",
       "    }\n",
       "\n",
       "    .dataframe thead th {\n",
       "        text-align: right;\n",
       "    }\n",
       "</style>\n",
       "<table border=\"1\" class=\"dataframe\">\n",
       "  <thead>\n",
       "    <tr style=\"text-align: right;\">\n",
       "      <th></th>\n",
       "      <th>count</th>\n",
       "      <th>mean</th>\n",
       "      <th>std</th>\n",
       "      <th>min</th>\n",
       "      <th>25%</th>\n",
       "      <th>50%</th>\n",
       "      <th>75%</th>\n",
       "      <th>max</th>\n",
       "      <th>range</th>\n",
       "    </tr>\n",
       "  </thead>\n",
       "  <tbody>\n",
       "    <tr>\n",
       "      <th>first_quartile</th>\n",
       "      <td>2067.0</td>\n",
       "      <td>154.472182</td>\n",
       "      <td>78.391665</td>\n",
       "      <td>26.0</td>\n",
       "      <td>102.0</td>\n",
       "      <td>141.0</td>\n",
       "      <td>189.0</td>\n",
       "      <td>694.0</td>\n",
       "      <td>668.0</td>\n",
       "    </tr>\n",
       "    <tr>\n",
       "      <th>second_quartile</th>\n",
       "      <td>1949.0</td>\n",
       "      <td>161.593125</td>\n",
       "      <td>85.961241</td>\n",
       "      <td>36.0</td>\n",
       "      <td>105.0</td>\n",
       "      <td>142.0</td>\n",
       "      <td>193.0</td>\n",
       "      <td>823.0</td>\n",
       "      <td>787.0</td>\n",
       "    </tr>\n",
       "    <tr>\n",
       "      <th>third_quartile</th>\n",
       "      <td>1870.0</td>\n",
       "      <td>191.383422</td>\n",
       "      <td>104.526280</td>\n",
       "      <td>32.0</td>\n",
       "      <td>125.0</td>\n",
       "      <td>169.0</td>\n",
       "      <td>223.0</td>\n",
       "      <td>832.0</td>\n",
       "      <td>800.0</td>\n",
       "    </tr>\n",
       "    <tr>\n",
       "      <th>fourth_quartile</th>\n",
       "      <td>2145.0</td>\n",
       "      <td>205.691375</td>\n",
       "      <td>97.987791</td>\n",
       "      <td>33.0</td>\n",
       "      <td>143.0</td>\n",
       "      <td>185.0</td>\n",
       "      <td>239.0</td>\n",
       "      <td>909.0</td>\n",
       "      <td>876.0</td>\n",
       "    </tr>\n",
       "  </tbody>\n",
       "</table>\n",
       "</div>"
      ],
      "text/plain": [
       "                  count        mean         std   min    25%    50%    75%  \\\n",
       "first_quartile   2067.0  154.472182   78.391665  26.0  102.0  141.0  189.0   \n",
       "second_quartile  1949.0  161.593125   85.961241  36.0  105.0  142.0  193.0   \n",
       "third_quartile   1870.0  191.383422  104.526280  32.0  125.0  169.0  223.0   \n",
       "fourth_quartile  2145.0  205.691375   97.987791  33.0  143.0  185.0  239.0   \n",
       "\n",
       "                   max  range  \n",
       "first_quartile   694.0  668.0  \n",
       "second_quartile  823.0  787.0  \n",
       "third_quartile   832.0  800.0  \n",
       "fourth_quartile  909.0  876.0  "
      ]
     },
     "execution_count": 12,
     "metadata": {},
     "output_type": "execute_result"
    }
   ],
   "source": [
    "# Create DataFrame of word count distributions\n",
    "ranges = []\n",
    "for category in word_distributions:\n",
    "    ranges.append(word_distributions[category]['max'] - word_distributions[category]['min'])\n",
    "\n",
    "columns = ['count', 'mean', 'std', 'min', '25%', '50%', '75%', 'max', 'range']\n",
    "df_rows = []\n",
    "for index, category in enumerate(word_distributions):\n",
    "    distribution = list(word_distributions[category])\n",
    "    distribution.extend([ranges[index]])\n",
    "    df_rows.append(distribution)\n",
    "popularity_df = pd.DataFrame(df_rows, index=list(word_distributions.keys()), columns=columns)\n",
    "popularity_df"
   ]
  },
  {
   "cell_type": "code",
   "execution_count": 13,
   "metadata": {},
   "outputs": [],
   "source": [
    "# Save DataFrame to CSV\n",
    "popularity_df.to_csv('../Data/Analysis/popularity_by_words.csv')"
   ]
  },
  {
   "cell_type": "markdown",
   "metadata": {},
   "source": [
    "# Conclusions about word distributions by popularity\n",
    "- The songs with the lowest 25% popularities have the lowest mean word count of 154 words\n",
    "- The songs in the second quartile of popularity have a mean word count of 162 words\n",
    "- The songs in the third quartile of popularity have a mean word count of 191 words\n",
    "- The songs with the highest 25% popularities ahve the highest mean word count fo 206 words\n",
    "- The song with the highest word count has a popularity of 64:\n",
    "    - Song name: Rap God \n",
    "    - Artist: Eminem\n",
    "    - Word count: 909 words\n",
    "- The song with the lowest word count has a popularity of 25:\n",
    "    - Song name: Golf Hill Drive \n",
    "    - Artist: Boys Life\n",
    "    - Word count: 26 words"
   ]
  },
  {
   "cell_type": "markdown",
   "metadata": {},
   "source": [
    "# Examine unique word counts by genre"
   ]
  },
  {
   "cell_type": "code",
   "execution_count": 14,
   "metadata": {},
   "outputs": [
    {
     "data": {
      "text/plain": [
       "{'first_quartile': count    2067.000000\n",
       " mean       69.169328\n",
       " std        38.362064\n",
       " min        25.000000\n",
       " 25%        47.000000\n",
       " 50%        62.000000\n",
       " 75%        79.000000\n",
       " max       486.000000\n",
       " Name: unique_word_count, dtype: float64,\n",
       " 'second_quartile': count    2120.000000\n",
       " mean       73.972642\n",
       " std        44.358010\n",
       " min        25.000000\n",
       " 25%        49.000000\n",
       " 50%        63.000000\n",
       " 75%        82.000000\n",
       " max       503.000000\n",
       " Name: unique_word_count, dtype: float64,\n",
       " 'third_quartile': count    1699.000000\n",
       " mean       82.720424\n",
       " std        52.921538\n",
       " min        25.000000\n",
       " 25%        52.500000\n",
       " 50%        68.000000\n",
       " 75%        92.000000\n",
       " max       544.000000\n",
       " Name: unique_word_count, dtype: float64,\n",
       " 'fourth_quartile': count    2145.000000\n",
       " mean       82.702098\n",
       " std        47.988176\n",
       " min        25.000000\n",
       " 25%        55.000000\n",
       " 50%        70.000000\n",
       " 75%        92.000000\n",
       " max       539.000000\n",
       " Name: unique_word_count, dtype: float64}"
      ]
     },
     "execution_count": 14,
     "metadata": {},
     "output_type": "execute_result"
    }
   ],
   "source": [
    "# Print the distributions of unique word counts for each quartile\n",
    "unique_word_distributions = {}\n",
    "quartile1_unique_words = nlp_df[nlp_df['popularity']<=37]['unique_word_count'].describe()\n",
    "unique_word_distributions['first_quartile'] = quartile1_unique_words\n",
    "\n",
    "quartile2_unique_words = nlp_df[(nlp_df['popularity']>37) & (nlp_df['popularity']<=52)]['unique_word_count'].describe()\n",
    "unique_word_distributions['second_quartile'] = quartile2_unique_words\n",
    "\n",
    "quartile3_unique_words = nlp_df[(nlp_df['popularity']>52) & (nlp_df['popularity']<63)]['unique_word_count'].describe()\n",
    "unique_word_distributions['third_quartile'] = quartile3_unique_words\n",
    "\n",
    "quartile4_unique_words = nlp_df[nlp_df['popularity']>=63]['unique_word_count'].describe()\n",
    "unique_word_distributions['fourth_quartile'] = quartile4_unique_words\n",
    "unique_word_distributions"
   ]
  },
  {
   "cell_type": "code",
   "execution_count": 16,
   "metadata": {},
   "outputs": [
    {
     "data": {
      "text/plain": [
       "{'third_quartile': 82.72042377869334,\n",
       " 'fourth_quartile': 82.7020979020979,\n",
       " 'second_quartile': 73.97264150943396,\n",
       " 'first_quartile': 69.1693275278181}"
      ]
     },
     "execution_count": 16,
     "metadata": {},
     "output_type": "execute_result"
    }
   ],
   "source": [
    "# Create a dictionary of mean unique word distributions\n",
    "categories = list(unique_word_distributions.keys())\n",
    "means = []\n",
    "for category in unique_word_distributions:\n",
    "    means.append(unique_word_distributions[category]['mean'])\n",
    "mean_unique_word_counts = dict(zip(categories, means))\n",
    "mean_unique_word_counts = dict(sorted(mean_unique_word_counts.items(), key=lambda item: item[1], reverse=True))\n",
    "mean_unique_word_counts"
   ]
  },
  {
   "cell_type": "code",
   "execution_count": 17,
   "metadata": {},
   "outputs": [
    {
     "name": "stdout",
     "output_type": "stream",
     "text": [
      "Song with the most unique words:\n"
     ]
    },
    {
     "data": {
      "text/html": [
       "<div>\n",
       "<style scoped>\n",
       "    .dataframe tbody tr th:only-of-type {\n",
       "        vertical-align: middle;\n",
       "    }\n",
       "\n",
       "    .dataframe tbody tr th {\n",
       "        vertical-align: top;\n",
       "    }\n",
       "\n",
       "    .dataframe thead th {\n",
       "        text-align: right;\n",
       "    }\n",
       "</style>\n",
       "<table border=\"1\" class=\"dataframe\">\n",
       "  <thead>\n",
       "    <tr style=\"text-align: right;\">\n",
       "      <th></th>\n",
       "      <th>song</th>\n",
       "      <th>artist</th>\n",
       "      <th>category</th>\n",
       "      <th>popularity</th>\n",
       "      <th>lyrics</th>\n",
       "      <th>unique_word_count</th>\n",
       "    </tr>\n",
       "  </thead>\n",
       "  <tbody>\n",
       "    <tr>\n",
       "      <th>1262</th>\n",
       "      <td>Momentum (feat. Black Thought &amp; Benny The Butc...</td>\n",
       "      <td>Russ</td>\n",
       "      <td>hiphop</td>\n",
       "      <td>61</td>\n",
       "      <td>Yeah yeah   Dont compare me to employees who ...</td>\n",
       "      <td>544</td>\n",
       "    </tr>\n",
       "  </tbody>\n",
       "</table>\n",
       "</div>"
      ],
      "text/plain": [
       "                                                   song artist category  \\\n",
       "1262  Momentum (feat. Black Thought & Benny The Butc...   Russ   hiphop   \n",
       "\n",
       "      popularity                                             lyrics  \\\n",
       "1262          61   Yeah yeah   Dont compare me to employees who ...   \n",
       "\n",
       "      unique_word_count  \n",
       "1262                544  "
      ]
     },
     "metadata": {},
     "output_type": "display_data"
    },
    {
     "name": "stdout",
     "output_type": "stream",
     "text": [
      "Popularities of songs that have the minimum unique word count of 25 words:\n",
      "{0, 4, 25, 26, 30, 31, 35, 38, 42, 43, 45, 46, 48, 49, 60, 61, 62, 70, 84} \n",
      "\n",
      "count    25.000000\n",
      "mean     36.160000\n",
      "std      24.463715\n",
      "min       0.000000\n",
      "25%      25.000000\n",
      "50%      42.000000\n",
      "75%      49.000000\n",
      "max      84.000000\n",
      "Name: popularity, dtype: float64\n",
      "25 songs have the minimum unique word count of 25 words.\n"
     ]
    }
   ],
   "source": [
    "# Find songs with the highest and lowest  word counts\n",
    "print('Song with the most unique words:')\n",
    "display(nlp_df[nlp_df['unique_word_count']==max(nlp_df['unique_word_count'])][['song', 'artist', 'category', 'popularity', 'lyrics', 'unique_word_count']])\n",
    "\n",
    "print('Popularities of songs that have the minimum unique word count of 25 words:')\n",
    "print(set(nlp_df[nlp_df['unique_word_count']==min(nlp_df['unique_word_count'])]['popularity']), '\\n')\n",
    "\n",
    "print(nlp_df[nlp_df['unique_word_count']==min(nlp_df['unique_word_count'])]['popularity'].describe())\n",
    "\n",
    "min_word_count_df = nlp_df[nlp_df['unique_word_count']==min(nlp_df['unique_word_count'])]\n",
    "print(f'{len(min_word_count_df)} songs have the minimum unique word count of 25 words.')\n"
   ]
  },
  {
   "cell_type": "code",
   "execution_count": 18,
   "metadata": {},
   "outputs": [
    {
     "data": {
      "text/html": [
       "<div>\n",
       "<style scoped>\n",
       "    .dataframe tbody tr th:only-of-type {\n",
       "        vertical-align: middle;\n",
       "    }\n",
       "\n",
       "    .dataframe tbody tr th {\n",
       "        vertical-align: top;\n",
       "    }\n",
       "\n",
       "    .dataframe thead th {\n",
       "        text-align: right;\n",
       "    }\n",
       "</style>\n",
       "<table border=\"1\" class=\"dataframe\">\n",
       "  <thead>\n",
       "    <tr style=\"text-align: right;\">\n",
       "      <th></th>\n",
       "      <th>count</th>\n",
       "      <th>mean</th>\n",
       "      <th>std</th>\n",
       "      <th>min</th>\n",
       "      <th>25%</th>\n",
       "      <th>50%</th>\n",
       "      <th>75%</th>\n",
       "      <th>max</th>\n",
       "      <th>range</th>\n",
       "    </tr>\n",
       "  </thead>\n",
       "  <tbody>\n",
       "    <tr>\n",
       "      <th>first_quartile</th>\n",
       "      <td>2067.0</td>\n",
       "      <td>69.169328</td>\n",
       "      <td>38.362064</td>\n",
       "      <td>25.0</td>\n",
       "      <td>47.0</td>\n",
       "      <td>62.0</td>\n",
       "      <td>79.0</td>\n",
       "      <td>486.0</td>\n",
       "      <td>461.0</td>\n",
       "    </tr>\n",
       "    <tr>\n",
       "      <th>second_quartile</th>\n",
       "      <td>2120.0</td>\n",
       "      <td>73.972642</td>\n",
       "      <td>44.358010</td>\n",
       "      <td>25.0</td>\n",
       "      <td>49.0</td>\n",
       "      <td>63.0</td>\n",
       "      <td>82.0</td>\n",
       "      <td>503.0</td>\n",
       "      <td>478.0</td>\n",
       "    </tr>\n",
       "    <tr>\n",
       "      <th>third_quartile</th>\n",
       "      <td>1699.0</td>\n",
       "      <td>82.720424</td>\n",
       "      <td>52.921538</td>\n",
       "      <td>25.0</td>\n",
       "      <td>52.5</td>\n",
       "      <td>68.0</td>\n",
       "      <td>92.0</td>\n",
       "      <td>544.0</td>\n",
       "      <td>519.0</td>\n",
       "    </tr>\n",
       "    <tr>\n",
       "      <th>fourth_quartile</th>\n",
       "      <td>2145.0</td>\n",
       "      <td>82.702098</td>\n",
       "      <td>47.988176</td>\n",
       "      <td>25.0</td>\n",
       "      <td>55.0</td>\n",
       "      <td>70.0</td>\n",
       "      <td>92.0</td>\n",
       "      <td>539.0</td>\n",
       "      <td>514.0</td>\n",
       "    </tr>\n",
       "  </tbody>\n",
       "</table>\n",
       "</div>"
      ],
      "text/plain": [
       "                  count       mean        std   min   25%   50%   75%    max  \\\n",
       "first_quartile   2067.0  69.169328  38.362064  25.0  47.0  62.0  79.0  486.0   \n",
       "second_quartile  2120.0  73.972642  44.358010  25.0  49.0  63.0  82.0  503.0   \n",
       "third_quartile   1699.0  82.720424  52.921538  25.0  52.5  68.0  92.0  544.0   \n",
       "fourth_quartile  2145.0  82.702098  47.988176  25.0  55.0  70.0  92.0  539.0   \n",
       "\n",
       "                 range  \n",
       "first_quartile   461.0  \n",
       "second_quartile  478.0  \n",
       "third_quartile   519.0  \n",
       "fourth_quartile  514.0  "
      ]
     },
     "execution_count": 18,
     "metadata": {},
     "output_type": "execute_result"
    }
   ],
   "source": [
    "# Create DataFrame of unique word count distributions\n",
    "ranges = []\n",
    "for category in unique_word_distributions:\n",
    "    ranges.append(unique_word_distributions[category]['max'] - unique_word_distributions[category]['min'])\n",
    "\n",
    "columns = ['count', 'mean', 'std', 'min', '25%', '50%', '75%', 'max', 'range']\n",
    "df_rows = []\n",
    "for index, category in enumerate(unique_word_distributions):\n",
    "    distribution = list(unique_word_distributions[category])\n",
    "    distribution.extend([ranges[index]])\n",
    "    df_rows.append(distribution)\n",
    "unique_popularity_df = pd.DataFrame(df_rows, index=list(unique_word_distributions.keys()), columns=columns)\n",
    "unique_popularity_df"
   ]
  },
  {
   "cell_type": "code",
   "execution_count": 19,
   "metadata": {},
   "outputs": [],
   "source": [
    "# Save DataFrame to CSV\n",
    "unique_popularity_df.to_csv('../Data/Analysis/popularity_by_unique_words.csv')"
   ]
  },
  {
   "cell_type": "markdown",
   "metadata": {},
   "source": [
    "# Conclusions about unique word distributions by popularity\n",
    "- The songs with the lowest 25% popularities have the lowest mean unique word count of 69 words\n",
    "- The song with the highest unique word count has a popularity of 61:\n",
    "    - Song name: Momentum \n",
    "    - Artist: Russ\n",
    "    - Unique word count: 544 words\n",
    "- The average popularity of the 25 songs with minimum unique word count was 36\n",
    "    - The highest popularity of the songs with the minimum unique word count was 84\n",
    "    - The lowest popularity of the songs with the minimum unique word count was 0"
   ]
  }
 ],
 "metadata": {
  "kernelspec": {
   "display_name": "Python 3",
   "language": "python",
   "name": "python3"
  },
  "language_info": {
   "codemirror_mode": {
    "name": "ipython",
    "version": 3
   },
   "file_extension": ".py",
   "mimetype": "text/x-python",
   "name": "python",
   "nbconvert_exporter": "python",
   "pygments_lexer": "ipython3",
   "version": "3.7.3"
  }
 },
 "nbformat": 4,
 "nbformat_minor": 4
}
